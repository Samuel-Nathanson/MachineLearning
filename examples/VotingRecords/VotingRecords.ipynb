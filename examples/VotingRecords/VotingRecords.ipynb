{
 "cells": [
  {
   "cell_type": "code",
   "execution_count": 2,
   "metadata": {
    "collapsed": true
   },
   "outputs": [],
   "source": [
    "%reload_ext autoreload\n",
    "%autoreload 2\n",
    "# Import Libraries\n",
    "from lib.PreprocessingTK import *\n",
    "import pandas\n",
    "import numpy as np"
   ]
  },
  {
   "cell_type": "code",
   "execution_count": 3,
   "outputs": [
    {
     "name": "stdout",
     "output_type": "stream",
     "text": [
      "Original Data Frame\n"
     ]
    },
    {
     "data": {
      "text/plain": "    affiliation handicapped-infants water-project-cost-sharing  \\\n0    republican                   n                          y   \n1    republican                   n                          y   \n2      democrat                   ?                          y   \n3      democrat                   n                          y   \n4      democrat                   y                          y   \n..          ...                 ...                        ...   \n430  republican                   n                          n   \n431    democrat                   n                          n   \n432  republican                   n                          ?   \n433  republican                   n                          n   \n434  republican                   n                          y   \n\n    adoption-of-the-budget-resolution physician-fee-freeze el-salvador-aid  \\\n0                                   n                    y               y   \n1                                   n                    y               y   \n2                                   y                    ?               y   \n3                                   y                    n               ?   \n4                                   y                    n               y   \n..                                ...                  ...             ...   \n430                                 y                    y               y   \n431                                 y                    n               n   \n432                                 n                    y               y   \n433                                 n                    y               y   \n434                                 n                    y               y   \n\n    religious-groups-in-schools anti-satellite-test-ban  \\\n0                             y                       n   \n1                             y                       n   \n2                             y                       n   \n3                             y                       n   \n4                             y                       n   \n..                          ...                     ...   \n430                           y                       n   \n431                           n                       y   \n432                           y                       n   \n433                           y                       ?   \n434                           y                       n   \n\n    aid-to-nicaraguan-contras mx-missile immigration  \\\n0                           n          n           y   \n1                           n          n           n   \n2                           n          n           n   \n3                           n          n           n   \n4                           n          n           n   \n..                        ...        ...         ...   \n430                         n          y           y   \n431                         y          y           y   \n432                         n          n           n   \n433                         ?          ?           ?   \n434                         n          n           y   \n\n    synfuels-corporation-cutback education-spending superfund-right-to-sue  \\\n0                              ?                  y                      y   \n1                              n                  y                      y   \n2                              y                  n                      y   \n3                              y                  n                      y   \n4                              y                  ?                      y   \n..                           ...                ...                    ...   \n430                            n                  y                      y   \n431                            n                  n                      n   \n432                            y                  y                      y   \n433                            n                  y                      y   \n434                            n                  y                      y   \n\n    crime duty-free-exports export-administration-act-south-africa  \n0       y                 n                                      y  \n1       y                 n                                      ?  \n2       y                 n                                      n  \n3       n                 n                                      y  \n4       y                 y                                      y  \n..    ...               ...                                    ...  \n430     y                 n                                      y  \n431     n                 n                                      y  \n432     y                 n                                      y  \n433     y                 n                                      y  \n434     y                 ?                                      n  \n\n[435 rows x 17 columns]",
      "text/html": "<div>\n<style scoped>\n    .dataframe tbody tr th:only-of-type {\n        vertical-align: middle;\n    }\n\n    .dataframe tbody tr th {\n        vertical-align: top;\n    }\n\n    .dataframe thead th {\n        text-align: right;\n    }\n</style>\n<table border=\"1\" class=\"dataframe\">\n  <thead>\n    <tr style=\"text-align: right;\">\n      <th></th>\n      <th>affiliation</th>\n      <th>handicapped-infants</th>\n      <th>water-project-cost-sharing</th>\n      <th>adoption-of-the-budget-resolution</th>\n      <th>physician-fee-freeze</th>\n      <th>el-salvador-aid</th>\n      <th>religious-groups-in-schools</th>\n      <th>anti-satellite-test-ban</th>\n      <th>aid-to-nicaraguan-contras</th>\n      <th>mx-missile</th>\n      <th>immigration</th>\n      <th>synfuels-corporation-cutback</th>\n      <th>education-spending</th>\n      <th>superfund-right-to-sue</th>\n      <th>crime</th>\n      <th>duty-free-exports</th>\n      <th>export-administration-act-south-africa</th>\n    </tr>\n  </thead>\n  <tbody>\n    <tr>\n      <th>0</th>\n      <td>republican</td>\n      <td>n</td>\n      <td>y</td>\n      <td>n</td>\n      <td>y</td>\n      <td>y</td>\n      <td>y</td>\n      <td>n</td>\n      <td>n</td>\n      <td>n</td>\n      <td>y</td>\n      <td>?</td>\n      <td>y</td>\n      <td>y</td>\n      <td>y</td>\n      <td>n</td>\n      <td>y</td>\n    </tr>\n    <tr>\n      <th>1</th>\n      <td>republican</td>\n      <td>n</td>\n      <td>y</td>\n      <td>n</td>\n      <td>y</td>\n      <td>y</td>\n      <td>y</td>\n      <td>n</td>\n      <td>n</td>\n      <td>n</td>\n      <td>n</td>\n      <td>n</td>\n      <td>y</td>\n      <td>y</td>\n      <td>y</td>\n      <td>n</td>\n      <td>?</td>\n    </tr>\n    <tr>\n      <th>2</th>\n      <td>democrat</td>\n      <td>?</td>\n      <td>y</td>\n      <td>y</td>\n      <td>?</td>\n      <td>y</td>\n      <td>y</td>\n      <td>n</td>\n      <td>n</td>\n      <td>n</td>\n      <td>n</td>\n      <td>y</td>\n      <td>n</td>\n      <td>y</td>\n      <td>y</td>\n      <td>n</td>\n      <td>n</td>\n    </tr>\n    <tr>\n      <th>3</th>\n      <td>democrat</td>\n      <td>n</td>\n      <td>y</td>\n      <td>y</td>\n      <td>n</td>\n      <td>?</td>\n      <td>y</td>\n      <td>n</td>\n      <td>n</td>\n      <td>n</td>\n      <td>n</td>\n      <td>y</td>\n      <td>n</td>\n      <td>y</td>\n      <td>n</td>\n      <td>n</td>\n      <td>y</td>\n    </tr>\n    <tr>\n      <th>4</th>\n      <td>democrat</td>\n      <td>y</td>\n      <td>y</td>\n      <td>y</td>\n      <td>n</td>\n      <td>y</td>\n      <td>y</td>\n      <td>n</td>\n      <td>n</td>\n      <td>n</td>\n      <td>n</td>\n      <td>y</td>\n      <td>?</td>\n      <td>y</td>\n      <td>y</td>\n      <td>y</td>\n      <td>y</td>\n    </tr>\n    <tr>\n      <th>...</th>\n      <td>...</td>\n      <td>...</td>\n      <td>...</td>\n      <td>...</td>\n      <td>...</td>\n      <td>...</td>\n      <td>...</td>\n      <td>...</td>\n      <td>...</td>\n      <td>...</td>\n      <td>...</td>\n      <td>...</td>\n      <td>...</td>\n      <td>...</td>\n      <td>...</td>\n      <td>...</td>\n      <td>...</td>\n    </tr>\n    <tr>\n      <th>430</th>\n      <td>republican</td>\n      <td>n</td>\n      <td>n</td>\n      <td>y</td>\n      <td>y</td>\n      <td>y</td>\n      <td>y</td>\n      <td>n</td>\n      <td>n</td>\n      <td>y</td>\n      <td>y</td>\n      <td>n</td>\n      <td>y</td>\n      <td>y</td>\n      <td>y</td>\n      <td>n</td>\n      <td>y</td>\n    </tr>\n    <tr>\n      <th>431</th>\n      <td>democrat</td>\n      <td>n</td>\n      <td>n</td>\n      <td>y</td>\n      <td>n</td>\n      <td>n</td>\n      <td>n</td>\n      <td>y</td>\n      <td>y</td>\n      <td>y</td>\n      <td>y</td>\n      <td>n</td>\n      <td>n</td>\n      <td>n</td>\n      <td>n</td>\n      <td>n</td>\n      <td>y</td>\n    </tr>\n    <tr>\n      <th>432</th>\n      <td>republican</td>\n      <td>n</td>\n      <td>?</td>\n      <td>n</td>\n      <td>y</td>\n      <td>y</td>\n      <td>y</td>\n      <td>n</td>\n      <td>n</td>\n      <td>n</td>\n      <td>n</td>\n      <td>y</td>\n      <td>y</td>\n      <td>y</td>\n      <td>y</td>\n      <td>n</td>\n      <td>y</td>\n    </tr>\n    <tr>\n      <th>433</th>\n      <td>republican</td>\n      <td>n</td>\n      <td>n</td>\n      <td>n</td>\n      <td>y</td>\n      <td>y</td>\n      <td>y</td>\n      <td>?</td>\n      <td>?</td>\n      <td>?</td>\n      <td>?</td>\n      <td>n</td>\n      <td>y</td>\n      <td>y</td>\n      <td>y</td>\n      <td>n</td>\n      <td>y</td>\n    </tr>\n    <tr>\n      <th>434</th>\n      <td>republican</td>\n      <td>n</td>\n      <td>y</td>\n      <td>n</td>\n      <td>y</td>\n      <td>y</td>\n      <td>y</td>\n      <td>n</td>\n      <td>n</td>\n      <td>n</td>\n      <td>y</td>\n      <td>n</td>\n      <td>y</td>\n      <td>y</td>\n      <td>y</td>\n      <td>?</td>\n      <td>n</td>\n    </tr>\n  </tbody>\n</table>\n<p>435 rows × 17 columns</p>\n</div>"
     },
     "execution_count": 3,
     "metadata": {},
     "output_type": "execute_result"
    }
   ],
   "source": [
    "# Read Data with Features\n",
    "'''\n",
    "  1. Class Name: 2 (democrat, republican)\n",
    "   2. handicapped-infants: 2 (y,n)\n",
    "   3. water-project-cost-sharing: 2 (y,n)\n",
    "   4. adoption-of-the-budget-resolution: 2 (y,n)\n",
    "   5. physician-fee-freeze: 2 (y,n)\n",
    "   6. el-salvador-aid: 2 (y,n)\n",
    "   7. religious-groups-in-schools: 2 (y,n)\n",
    "   8. anti-satellite-test-ban: 2 (y,n)\n",
    "   9. aid-to-nicaraguan-contras: 2 (y,n)\n",
    "  10. mx-missile: 2 (y,n)\n",
    "  11. immigration: 2 (y,n)\n",
    "  12. synfuels-corporation-cutback: 2 (y,n)\n",
    "  13. education-spending: 2 (y,n)\n",
    "  14. superfund-right-to-sue: 2 (y,n)\n",
    "  15. crime: 2 (y,n)\n",
    "  16. duty-free-exports: 2 (y,n)\n",
    "  17. export-administration-act-south-africa: 2 (y,n)\n",
    "  '''\n",
    "featureNames = [\n",
    "    \"affiliation\",\n",
    "    \"handicapped-infants\",\n",
    "    \"water-project-cost-sharing\",\n",
    "    \"adoption-of-the-budget-resolution\",\n",
    "    \"physician-fee-freeze\",\n",
    "    \"el-salvador-aid\",\n",
    "    \"religious-groups-in-schools\",\n",
    "    \"anti-satellite-test-ban\",\n",
    "    \"aid-to-nicaraguan-contras\",\n",
    "    \"mx-missile\",\n",
    "    \"immigration\",\n",
    "    \"synfuels-corporation-cutback\",\n",
    "    \"education-spending\",\n",
    "    \"superfund-right-to-sue\",\n",
    "    \"crime\",\n",
    "    \"duty-free-exports\",\n",
    "    \"export-administration-act-south-africa\"\n",
    "]\n",
    "data = pandas.read_csv(\"../../data/VotingRecords/house-votes-84.data\",\n",
    "                       names=featureNames)\n",
    "# Show original data frame\n",
    "print(\"Original Data Frame\")\n",
    "data"
   ],
   "metadata": {
    "collapsed": false,
    "pycharm": {
     "name": "#%%\n"
    }
   }
  },
  {
   "cell_type": "code",
   "execution_count": 4,
   "outputs": [
    {
     "name": "stdout",
     "output_type": "stream",
     "text": [
      "\n",
      "Partition data into 5 folds with train, test, and (Optional) validation sets\n",
      "Stratifying by values in column: affiliation\n",
      "Classification Task\n",
      "Fold 0, size=86\n",
      "Fold 1, size=86\n",
      "Fold 2, size=86\n",
      "Fold 3, size=86\n",
      "Fold 4, size=91\n"
     ]
    }
   ],
   "source": [
    "# Partition data into folds\n",
    "k = 5\n",
    "classColName = \"affiliation\"\n",
    "print(f\"\\nPartition data into {k} folds with train, test, and (Optional) validation sets\")\n",
    "print(f\"Stratifying by values in column: {classColName}\")\n",
    "folds = partition(data, k, classificationColumnId=classColName)\n",
    "for i in range(0, len(folds)):\n",
    "    print(f\"Fold {i}, size={len(folds[i])}\")\n"
   ],
   "metadata": {
    "collapsed": false,
    "pycharm": {
     "name": "#%%\n"
    }
   }
  },
  {
   "cell_type": "code",
   "execution_count": 5,
   "outputs": [
    {
     "name": "stdout",
     "output_type": "stream",
     "text": [
      "\n",
      "Learning Performance Evaluation\n"
     ]
    },
    {
     "data": {
      "text/plain": "Fold  accuracy-democrat  accuracy-republican\n0                 0.616                0.616\n1                 0.616                0.616\n2                 0.616                0.616\n3                 0.616                0.616\n4                 0.604                0.604",
      "text/html": "<div>\n<style scoped>\n    .dataframe tbody tr th:only-of-type {\n        vertical-align: middle;\n    }\n\n    .dataframe tbody tr th {\n        vertical-align: top;\n    }\n\n    .dataframe thead th {\n        text-align: right;\n    }\n</style>\n<table border=\"1\" class=\"dataframe\">\n  <thead>\n    <tr style=\"text-align: right;\">\n      <th>Fold</th>\n      <th>accuracy-democrat</th>\n      <th>accuracy-republican</th>\n    </tr>\n  </thead>\n  <tbody>\n    <tr>\n      <th>0</th>\n      <td>0.616</td>\n      <td>0.616</td>\n    </tr>\n    <tr>\n      <th>1</th>\n      <td>0.616</td>\n      <td>0.616</td>\n    </tr>\n    <tr>\n      <th>2</th>\n      <td>0.616</td>\n      <td>0.616</td>\n    </tr>\n    <tr>\n      <th>3</th>\n      <td>0.616</td>\n      <td>0.616</td>\n    </tr>\n    <tr>\n      <th>4</th>\n      <td>0.604</td>\n      <td>0.604</td>\n    </tr>\n  </tbody>\n</table>\n</div>"
     },
     "execution_count": 5,
     "metadata": {},
     "output_type": "execute_result"
    }
   ],
   "source": [
    "# Comment: Could be improved to O(1) by assigning values directly, but this is more general\n",
    "# e.g. classLabels = [y0, y1, y2, e.t.c.]\n",
    "# Test our learner\n",
    "classLabels = np.unique(data[classColName])\n",
    "className = \"affiliation\"\n",
    "foldEvaluations = []\n",
    "foldEvaluations = []\n",
    "for i in range(0,k):\n",
    "    testingSet = folds.pop(i)\n",
    "    trainingSet = pandas.concat(folds, ignore_index=True)\n",
    "    folds.insert(i, testingSet)\n",
    "    foldEvaluation = {}\n",
    "    for classLabel in classLabels:\n",
    "        prediction = naivePredictor(trainingSet, testingSet, classificationColId=className, method=\"classification\")\n",
    "        predicted_scores = [prediction for x in range(0,len(testingSet))] # Using first mode only\n",
    "\n",
    "        accuracy = evaluateError(predicted_scores, testingSet[className], method=\"accuracy\", classLabel=classLabel)\n",
    "    # precision = evaluateError(predicted_scores, testingSet[\"class\"], method=\"precision\", classLabel=classLabel)\n",
    "    # recall = evaluateError(predicted_scores, testingSet[\"class\"], method=\"recall\", classLabel=classLabel)\n",
    "    # f1 = evaluateError(predicted_scores, testingSet[\"class\"], method=\"f1\", classLabel=classLabel)\n",
    "\n",
    "        # Translate Class Label\n",
    "        foldEvaluation[f'accuracy-{classLabel}'] = accuracy\n",
    "    foldEvaluations.append(foldEvaluation)\n",
    "\n",
    "print(\"\\nLearning Performance Evaluation\")\n",
    "evalDf = pandas.DataFrame(foldEvaluations)\n",
    "# evalDf.index.name = 'Fold'\n",
    "evalDf = evalDf.rename_axis(index=None, columns='Fold')\n",
    "evalDf.round(3)"
   ],
   "metadata": {
    "collapsed": false,
    "pycharm": {
     "name": "#%%\n"
    }
   }
  },
  {
   "cell_type": "code",
   "execution_count": 10,
   "outputs": [
    {
     "name": "stdout",
     "output_type": "stream",
     "text": [
      "Average Mean Squared Error democrat: 0.6139023766930743\n",
      "Average Mean Squared Error republican: 0.6139023766930743\n"
     ]
    }
   ],
   "source": [
    "import numpy as np\n",
    "\n",
    "for classLabel in classLabels:\n",
    "    entry = \"accuracy-\" + classLabel\n",
    "    avgAcc = np.mean(evalDf[entry])\n",
    "    print(f\"Average Mean Squared Error {classLabel}: {avgAcc}\")\n",
    "\n"
   ],
   "metadata": {
    "collapsed": false,
    "pycharm": {
     "name": "#%%\n"
    }
   }
  }
 ],
 "metadata": {
  "kernelspec": {
   "display_name": "Python 3",
   "language": "python",
   "name": "python3"
  },
  "language_info": {
   "codemirror_mode": {
    "name": "ipython",
    "version": 2
   },
   "file_extension": ".py",
   "mimetype": "text/x-python",
   "name": "python",
   "nbconvert_exporter": "python",
   "pygments_lexer": "ipython2",
   "version": "2.7.6"
  }
 },
 "nbformat": 4,
 "nbformat_minor": 0
}