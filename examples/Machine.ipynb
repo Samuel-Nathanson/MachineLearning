{
 "cells": [
  {
   "cell_type": "code",
   "execution_count": 27,
   "metadata": {
    "collapsed": true,
    "pycharm": {
     "name": "#%%\n"
    }
   },
   "outputs": [],
   "source": [
    "%reload_ext autoreload\n",
    "%autoreload 2\n",
    "\n",
    "from lib.PreprocessingTK import *\n",
    "import pandas\n",
    "import numpy as np"
   ]
  },
  {
   "cell_type": "code",
   "execution_count": 28,
   "outputs": [
    {
     "name": "stdout",
     "output_type": "stream",
     "text": [
      "Original Data Frame\n"
     ]
    },
    {
     "data": {
      "text/plain": "  VendorName ModelName  MYCT  MMIN   MMAX  CACH  CHMIN  CHMAX  PRP  ERP\n0    adviser     32/60   125   256   6000   256     16    128  198  199\n1     amdahl    470v/7    29  8000  32000    32      8     32  269  253\n2     amdahl   470v/7a    29  8000  32000    32      8     32  220  253\n3     amdahl   470v/7b    29  8000  32000    32      8     32  172  253\n4     amdahl   470v/7c    29  8000  16000    32      8     16  132  132",
      "text/html": "<div>\n<style scoped>\n    .dataframe tbody tr th:only-of-type {\n        vertical-align: middle;\n    }\n\n    .dataframe tbody tr th {\n        vertical-align: top;\n    }\n\n    .dataframe thead th {\n        text-align: right;\n    }\n</style>\n<table border=\"1\" class=\"dataframe\">\n  <thead>\n    <tr style=\"text-align: right;\">\n      <th></th>\n      <th>VendorName</th>\n      <th>ModelName</th>\n      <th>MYCT</th>\n      <th>MMIN</th>\n      <th>MMAX</th>\n      <th>CACH</th>\n      <th>CHMIN</th>\n      <th>CHMAX</th>\n      <th>PRP</th>\n      <th>ERP</th>\n    </tr>\n  </thead>\n  <tbody>\n    <tr>\n      <th>0</th>\n      <td>adviser</td>\n      <td>32/60</td>\n      <td>125</td>\n      <td>256</td>\n      <td>6000</td>\n      <td>256</td>\n      <td>16</td>\n      <td>128</td>\n      <td>198</td>\n      <td>199</td>\n    </tr>\n    <tr>\n      <th>1</th>\n      <td>amdahl</td>\n      <td>470v/7</td>\n      <td>29</td>\n      <td>8000</td>\n      <td>32000</td>\n      <td>32</td>\n      <td>8</td>\n      <td>32</td>\n      <td>269</td>\n      <td>253</td>\n    </tr>\n    <tr>\n      <th>2</th>\n      <td>amdahl</td>\n      <td>470v/7a</td>\n      <td>29</td>\n      <td>8000</td>\n      <td>32000</td>\n      <td>32</td>\n      <td>8</td>\n      <td>32</td>\n      <td>220</td>\n      <td>253</td>\n    </tr>\n    <tr>\n      <th>3</th>\n      <td>amdahl</td>\n      <td>470v/7b</td>\n      <td>29</td>\n      <td>8000</td>\n      <td>32000</td>\n      <td>32</td>\n      <td>8</td>\n      <td>32</td>\n      <td>172</td>\n      <td>253</td>\n    </tr>\n    <tr>\n      <th>4</th>\n      <td>amdahl</td>\n      <td>470v/7c</td>\n      <td>29</td>\n      <td>8000</td>\n      <td>16000</td>\n      <td>32</td>\n      <td>8</td>\n      <td>16</td>\n      <td>132</td>\n      <td>132</td>\n    </tr>\n  </tbody>\n</table>\n</div>"
     },
     "execution_count": 28,
     "metadata": {},
     "output_type": "execute_result"
    }
   ],
   "source": [
    "data = pandas.read_csv(\"../data/Machine/machine.data\",\n",
    "                  names=[\"VendorName\", \"ModelName\", \"MYCT\", \"MMIN\", \"MMAX\", \"CACH\", \"CHMIN\", \"CHMAX\", \"PRP\", \"ERP\"])\n",
    "\n",
    "# Show original data frame\n",
    "print(\"Original Data Frame\")\n",
    "data.head()"
   ],
   "metadata": {
    "collapsed": false,
    "pycharm": {
     "name": "#%%\n"
    }
   }
  },
  {
   "cell_type": "code",
   "execution_count": 29,
   "outputs": [
    {
     "name": "stdout",
     "output_type": "stream",
     "text": [
      "Data Frame after converting nominal values to categorical using one-hot encoding\n"
     ]
    },
    {
     "data": {
      "text/plain": "                         VendorName  \\\n0  0b000000000000000000000000000001   \n1  0b000000000000000000000000000010   \n2  0b000000000000000000000000000010   \n3  0b000000000000000000000000000010   \n4  0b000000000000000000000000000010   \n\n                                           ModelName  MYCT  MMIN   MMAX  CACH  \\\n0  0b00000000000000000000000000000000000000000000...   125   256   6000   256   \n1  0b00000000000000000000000000000000000000000000...    29  8000  32000    32   \n2  0b00000000000000000000000000000000000000000000...    29  8000  32000    32   \n3  0b00000000000000000000000000000000000000000000...    29  8000  32000    32   \n4  0b00000000000000000000000000000000000000000000...    29  8000  16000    32   \n\n   CHMIN  CHMAX  PRP  ERP  \n0     16    128  198  199  \n1      8     32  269  253  \n2      8     32  220  253  \n3      8     32  172  253  \n4      8     16  132  132  ",
      "text/html": "<div>\n<style scoped>\n    .dataframe tbody tr th:only-of-type {\n        vertical-align: middle;\n    }\n\n    .dataframe tbody tr th {\n        vertical-align: top;\n    }\n\n    .dataframe thead th {\n        text-align: right;\n    }\n</style>\n<table border=\"1\" class=\"dataframe\">\n  <thead>\n    <tr style=\"text-align: right;\">\n      <th></th>\n      <th>VendorName</th>\n      <th>ModelName</th>\n      <th>MYCT</th>\n      <th>MMIN</th>\n      <th>MMAX</th>\n      <th>CACH</th>\n      <th>CHMIN</th>\n      <th>CHMAX</th>\n      <th>PRP</th>\n      <th>ERP</th>\n    </tr>\n  </thead>\n  <tbody>\n    <tr>\n      <th>0</th>\n      <td>0b000000000000000000000000000001</td>\n      <td>0b00000000000000000000000000000000000000000000...</td>\n      <td>125</td>\n      <td>256</td>\n      <td>6000</td>\n      <td>256</td>\n      <td>16</td>\n      <td>128</td>\n      <td>198</td>\n      <td>199</td>\n    </tr>\n    <tr>\n      <th>1</th>\n      <td>0b000000000000000000000000000010</td>\n      <td>0b00000000000000000000000000000000000000000000...</td>\n      <td>29</td>\n      <td>8000</td>\n      <td>32000</td>\n      <td>32</td>\n      <td>8</td>\n      <td>32</td>\n      <td>269</td>\n      <td>253</td>\n    </tr>\n    <tr>\n      <th>2</th>\n      <td>0b000000000000000000000000000010</td>\n      <td>0b00000000000000000000000000000000000000000000...</td>\n      <td>29</td>\n      <td>8000</td>\n      <td>32000</td>\n      <td>32</td>\n      <td>8</td>\n      <td>32</td>\n      <td>220</td>\n      <td>253</td>\n    </tr>\n    <tr>\n      <th>3</th>\n      <td>0b000000000000000000000000000010</td>\n      <td>0b00000000000000000000000000000000000000000000...</td>\n      <td>29</td>\n      <td>8000</td>\n      <td>32000</td>\n      <td>32</td>\n      <td>8</td>\n      <td>32</td>\n      <td>172</td>\n      <td>253</td>\n    </tr>\n    <tr>\n      <th>4</th>\n      <td>0b000000000000000000000000000010</td>\n      <td>0b00000000000000000000000000000000000000000000...</td>\n      <td>29</td>\n      <td>8000</td>\n      <td>16000</td>\n      <td>32</td>\n      <td>8</td>\n      <td>16</td>\n      <td>132</td>\n      <td>132</td>\n    </tr>\n  </tbody>\n</table>\n</div>"
     },
     "execution_count": 29,
     "metadata": {},
     "output_type": "execute_result"
    }
   ],
   "source": [
    "# Convert nominal data to categorical using one-hot encoding\n",
    "vendorNames = np.unique(data[\"VendorName\"])\n",
    "modelNames = np.unique(data[\"ModelName\"])\n",
    "convertNominal(data, \"VendorName\", vendorNames, inplace=True)\n",
    "convertNominal(data, \"ModelName\", modelNames, inplace=True)\n",
    "\n",
    "# Show updated data frame\n",
    "print(\"Data Frame after converting nominal values to categorical using one-hot encoding\")\n",
    "data.head()"
   ],
   "metadata": {
    "collapsed": false,
    "pycharm": {
     "name": "#%%\n"
    }
   }
  },
  {
   "cell_type": "code",
   "execution_count": 30,
   "outputs": [
    {
     "name": "stdout",
     "output_type": "stream",
     "text": [
      "Data Frame after discretizing the PRP field into 10 bins of equal frequency (Showing PRP column.)\n"
     ]
    },
    {
     "data": {
      "text/plain": "                           VendorName  \\\n99   0b000000000000100000000000000000   \n181  0b000100000000000000000000000000   \n102  0b000000000000100000000000000000   \n157  0b000000010000000000000000000000   \n14   0b000000000000000000000000010000   \n\n                                             ModelName  MYCT  MMIN  MMAX  \\\n99   0b00000000000000000000000000000000000000000000...   480    96   512   \n181  0b00000000000000000000000000000000000000000000...   240   512  1000   \n102  0b00000000000000000000000000000000000000000000...  1100   512  1500   \n157  0b00000000000000000100000000000000000000000000...   112  1000  1000   \n14   0b00000000000000000000000000000000000000000000...   350    64    64   \n\n     CACH  CHMIN  CHMAX  PRP  ERP  \n99      0      1      1    6   15  \n181     8      1      3    6   19  \n102     0      1      1    6   18  \n157     0      1      4    6   19  \n14      0      1      4    6   15  ",
      "text/html": "<div>\n<style scoped>\n    .dataframe tbody tr th:only-of-type {\n        vertical-align: middle;\n    }\n\n    .dataframe tbody tr th {\n        vertical-align: top;\n    }\n\n    .dataframe thead th {\n        text-align: right;\n    }\n</style>\n<table border=\"1\" class=\"dataframe\">\n  <thead>\n    <tr style=\"text-align: right;\">\n      <th></th>\n      <th>VendorName</th>\n      <th>ModelName</th>\n      <th>MYCT</th>\n      <th>MMIN</th>\n      <th>MMAX</th>\n      <th>CACH</th>\n      <th>CHMIN</th>\n      <th>CHMAX</th>\n      <th>PRP</th>\n      <th>ERP</th>\n    </tr>\n  </thead>\n  <tbody>\n    <tr>\n      <th>99</th>\n      <td>0b000000000000100000000000000000</td>\n      <td>0b00000000000000000000000000000000000000000000...</td>\n      <td>480</td>\n      <td>96</td>\n      <td>512</td>\n      <td>0</td>\n      <td>1</td>\n      <td>1</td>\n      <td>6</td>\n      <td>15</td>\n    </tr>\n    <tr>\n      <th>181</th>\n      <td>0b000100000000000000000000000000</td>\n      <td>0b00000000000000000000000000000000000000000000...</td>\n      <td>240</td>\n      <td>512</td>\n      <td>1000</td>\n      <td>8</td>\n      <td>1</td>\n      <td>3</td>\n      <td>6</td>\n      <td>19</td>\n    </tr>\n    <tr>\n      <th>102</th>\n      <td>0b000000000000100000000000000000</td>\n      <td>0b00000000000000000000000000000000000000000000...</td>\n      <td>1100</td>\n      <td>512</td>\n      <td>1500</td>\n      <td>0</td>\n      <td>1</td>\n      <td>1</td>\n      <td>6</td>\n      <td>18</td>\n    </tr>\n    <tr>\n      <th>157</th>\n      <td>0b000000010000000000000000000000</td>\n      <td>0b00000000000000000100000000000000000000000000...</td>\n      <td>112</td>\n      <td>1000</td>\n      <td>1000</td>\n      <td>0</td>\n      <td>1</td>\n      <td>4</td>\n      <td>6</td>\n      <td>19</td>\n    </tr>\n    <tr>\n      <th>14</th>\n      <td>0b000000000000000000000000010000</td>\n      <td>0b00000000000000000000000000000000000000000000...</td>\n      <td>350</td>\n      <td>64</td>\n      <td>64</td>\n      <td>0</td>\n      <td>1</td>\n      <td>4</td>\n      <td>6</td>\n      <td>15</td>\n    </tr>\n  </tbody>\n</table>\n</div>"
     },
     "execution_count": 30,
     "metadata": {},
     "output_type": "execute_result"
    }
   ],
   "source": [
    "# discretize(data, \"PRP\", xargs={\"dMethod\": \"equal-width\", \"bins\": 10}, inplace=True)\n",
    "# zeroIndex = np.min(data[\"PRP\"])\n",
    "# oneIndex = np.max(data[\"PRP\"])\n",
    "# print(\"Equal-Width Discretized - PRP Bin 0: \" + str(np.count_nonzero(data[\"PRP\"] == zeroIndex)))\n",
    "# print(\"Equal-Width Discretized - PRP Bin 1: \" + str(np.count_nonzero(data[\"PRP\"] == oneIndex)))\n",
    "\n",
    "# Discretize PRP column into 10 bins based on frequency\n",
    "discretize(data, \"PRP\", xargs={\"dMethod\": \"frequency\", \"bins\": 10}, inplace=True)\n",
    "\n",
    "# Show updated data frame\n",
    "print(\"Data Frame after discretizing the PRP field into 10 bins of equal frequency (Showing PRP column.)\")\n",
    "data.head()"
   ],
   "metadata": {
    "collapsed": false,
    "pycharm": {
     "name": "#%%\n"
    }
   }
  },
  {
   "cell_type": "code",
   "execution_count": 31,
   "outputs": [
    {
     "name": "stdout",
     "output_type": "stream",
     "text": [
      "Partition data into 5 folds with equally sized train and test sets (no validation set.)\n",
      "Fold 0, testSize=21, trainSize=21\n",
      "Fold 1, testSize=21, trainSize=21\n",
      "Fold 2, testSize=21, trainSize=21\n",
      "Fold 3, testSize=21, trainSize=21\n",
      "Fold 4, testSize=20, trainSize=21\n",
      "Demonstration: Partition data into 10 folds with train, test, and validation sets with ratio (0.75, 0.15, 0.1)\n",
      "Fold 0, trainSize=15, testSize=3, validationSize=3\n",
      "Fold 1, trainSize=15, testSize=3, validationSize=3\n",
      "Fold 2, trainSize=15, testSize=3, validationSize=3\n",
      "Fold 3, trainSize=15, testSize=3, validationSize=3\n",
      "Fold 4, trainSize=15, testSize=3, validationSize=3\n",
      "Fold 5, trainSize=15, testSize=3, validationSize=3\n",
      "Fold 6, trainSize=15, testSize=3, validationSize=3\n",
      "Fold 7, trainSize=15, testSize=3, validationSize=3\n",
      "Fold 8, trainSize=15, testSize=3, validationSize=3\n",
      "Fold 9, trainSize=15, testSize=3, validationSize=2\n"
     ]
    }
   ],
   "source": [
    "# Partition data into 5 folds with equally sized train and test sets (no validation set.)\n",
    "folds = partition(data, 5, classificationColumnId=None, includeValidationSet=False, proportions=(0.5,0.5))\n",
    "print(\"Partition data into 5 folds with equally sized train and test sets (no validation set.)\")\n",
    "for i in range(0, len(folds)):\n",
    "    print(f\"Fold {i}, testSize={len(folds[i][0])}, trainSize={len(folds[i][1])}\")\n",
    "\n",
    "# Demonstration: Partition data into 10 folds with train, test, and validation sets with ratio (0.75, 0.15, 0.1)\n",
    "folds_demo = partition(data, 10, classificationColumnId=None, includeValidationSet=True, proportions=(0.75,0.15, 0.1))\n",
    "print(\"Demonstration: Partition data into 10 folds with train, test, and validation sets with ratio (0.75, 0.15, 0.1)\")\n",
    "for i in range(0, len(folds_demo)):\n",
    "    print(f\"Fold {i}, trainSize={len(folds_demo[i][0])}, testSize={len(folds_demo[i][1])}, validationSize={len(folds_demo[i][2])}\")\n",
    "\n"
   ],
   "metadata": {
    "collapsed": false,
    "pycharm": {
     "name": "#%%\n"
    }
   }
  },
  {
   "cell_type": "code",
   "execution_count": 33,
   "outputs": [
    {
     "data": {
      "text/plain": "         MSE     MAE    R2  Pearson\n0      53.61    5.67 -0.64     -0.0\n1     230.02   10.14 -0.21     -0.0\n2     287.27   11.87 -0.15      0.0\n3    3479.60   49.53 -1.87     -0.0\n4  152266.81  277.48 -0.84      0.0",
      "text/html": "<div>\n<style scoped>\n    .dataframe tbody tr th:only-of-type {\n        vertical-align: middle;\n    }\n\n    .dataframe tbody tr th {\n        vertical-align: top;\n    }\n\n    .dataframe thead th {\n        text-align: right;\n    }\n</style>\n<table border=\"1\" class=\"dataframe\">\n  <thead>\n    <tr style=\"text-align: right;\">\n      <th></th>\n      <th>MSE</th>\n      <th>MAE</th>\n      <th>R2</th>\n      <th>Pearson</th>\n    </tr>\n  </thead>\n  <tbody>\n    <tr>\n      <th>0</th>\n      <td>53.61</td>\n      <td>5.67</td>\n      <td>-0.64</td>\n      <td>-0.0</td>\n    </tr>\n    <tr>\n      <th>1</th>\n      <td>230.02</td>\n      <td>10.14</td>\n      <td>-0.21</td>\n      <td>-0.0</td>\n    </tr>\n    <tr>\n      <th>2</th>\n      <td>287.27</td>\n      <td>11.87</td>\n      <td>-0.15</td>\n      <td>0.0</td>\n    </tr>\n    <tr>\n      <th>3</th>\n      <td>3479.60</td>\n      <td>49.53</td>\n      <td>-1.87</td>\n      <td>-0.0</td>\n    </tr>\n    <tr>\n      <th>4</th>\n      <td>152266.81</td>\n      <td>277.48</td>\n      <td>-0.84</td>\n      <td>0.0</td>\n    </tr>\n  </tbody>\n</table>\n</div>"
     },
     "execution_count": 33,
     "metadata": {},
     "output_type": "execute_result"
    }
   ],
   "source": [
    "# Predict values within each fold, and compute error statistics:\n",
    "# Mean Squared Error, Mean Absolute Error, Coefficient of Determination, and Pearson Correlation Coefficient\n",
    "yCol = \"ERP\"\n",
    "\n",
    "evalRows = []\n",
    "for fold in folds:\n",
    "    trainingSet = fold[0]\n",
    "    testingSet = fold[1]\n",
    "    prediction = naivePredictor(trainingSet, testingSet, predictorColId=\"ERP\", method=\"regression\")\n",
    "    predicted_scores = [prediction for x in range(0,len(testingSet))]\n",
    "    mse = evaluateError(predicted_scores, testingSet[\"ERP\"], method=\"MSE\")\n",
    "    mae = evaluateError(predicted_scores, testingSet[\"ERP\"], method=\"MAE\")\n",
    "    r2 = evaluateError(predicted_scores, testingSet[\"ERP\"], method=\"R2\")\n",
    "    pearson = evaluateError(predicted_scores, testingSet[\"ERP\"], method=\"pearson\")\n",
    "\n",
    "    evalRow = {\n",
    "        'MSE' : mse,\n",
    "        'MAE' : mae,\n",
    "        'R2': r2,\n",
    "        'Pearson': pearson\n",
    "    }\n",
    "    evalRows.append(evalRow)\n",
    "\n",
    "evalDf = pandas.DataFrame(evalRows)\n",
    "evalDf.round(2).head()\n",
    "\n"
   ],
   "metadata": {
    "collapsed": false,
    "pycharm": {
     "name": "#%%\n"
    }
   }
  }
 ],
 "metadata": {
  "kernelspec": {
   "display_name": "Python 3",
   "language": "python",
   "name": "python3"
  },
  "language_info": {
   "codemirror_mode": {
    "name": "ipython",
    "version": 2
   },
   "file_extension": ".py",
   "mimetype": "text/x-python",
   "name": "python",
   "nbconvert_exporter": "python",
   "pygments_lexer": "ipython2",
   "version": "2.7.6"
  }
 },
 "nbformat": 4,
 "nbformat_minor": 0
}