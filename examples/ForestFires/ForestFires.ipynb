{
 "cells": [
  {
   "cell_type": "code",
   "execution_count": 13,
   "metadata": {
    "collapsed": true
   },
   "outputs": [],
   "source": [
    "%reload_ext autoreload\n",
    "%autoreload 2\n",
    "# Import Libraries\n",
    "from lib.PreprocessingTK import *\n",
    "import pandas\n",
    "import numpy as np"
   ]
  },
  {
   "cell_type": "code",
   "execution_count": 14,
   "outputs": [
    {
     "name": "stdout",
     "output_type": "stream",
     "text": [
      "Original Data Frame\n"
     ]
    },
    {
     "data": {
      "text/plain": "     X  Y Month  Day  FFMC    DMC     DC   ISI  temp  RH  Wind  Rain   Area\n0    7  5   mar  fri  86.2   26.2   94.3   5.1   8.2  51   6.7   0.0   0.00\n1    7  4   oct  tue  90.6   35.4  669.1   6.7  18.0  33   0.9   0.0   0.00\n2    7  4   oct  sat  90.6   43.7  686.9   6.7  14.6  33   1.3   0.0   0.00\n3    8  6   mar  fri  91.7   33.3   77.5   9.0   8.3  97   4.0   0.2   0.00\n4    8  6   mar  sun  89.3   51.3  102.2   9.6  11.4  99   1.8   0.0   0.00\n..  .. ..   ...  ...   ...    ...    ...   ...   ...  ..   ...   ...    ...\n512  4  3   aug  sun  81.6   56.7  665.6   1.9  27.8  32   2.7   0.0   6.44\n513  2  4   aug  sun  81.6   56.7  665.6   1.9  21.9  71   5.8   0.0  54.29\n514  7  4   aug  sun  81.6   56.7  665.6   1.9  21.2  70   6.7   0.0  11.16\n515  1  4   aug  sat  94.4  146.0  614.7  11.3  25.6  42   4.0   0.0   0.00\n516  6  3   nov  tue  79.5    3.0  106.7   1.1  11.8  31   4.5   0.0   0.00\n\n[517 rows x 13 columns]",
      "text/html": "<div>\n<style scoped>\n    .dataframe tbody tr th:only-of-type {\n        vertical-align: middle;\n    }\n\n    .dataframe tbody tr th {\n        vertical-align: top;\n    }\n\n    .dataframe thead th {\n        text-align: right;\n    }\n</style>\n<table border=\"1\" class=\"dataframe\">\n  <thead>\n    <tr style=\"text-align: right;\">\n      <th></th>\n      <th>X</th>\n      <th>Y</th>\n      <th>Month</th>\n      <th>Day</th>\n      <th>FFMC</th>\n      <th>DMC</th>\n      <th>DC</th>\n      <th>ISI</th>\n      <th>temp</th>\n      <th>RH</th>\n      <th>Wind</th>\n      <th>Rain</th>\n      <th>Area</th>\n    </tr>\n  </thead>\n  <tbody>\n    <tr>\n      <th>0</th>\n      <td>7</td>\n      <td>5</td>\n      <td>mar</td>\n      <td>fri</td>\n      <td>86.2</td>\n      <td>26.2</td>\n      <td>94.3</td>\n      <td>5.1</td>\n      <td>8.2</td>\n      <td>51</td>\n      <td>6.7</td>\n      <td>0.0</td>\n      <td>0.00</td>\n    </tr>\n    <tr>\n      <th>1</th>\n      <td>7</td>\n      <td>4</td>\n      <td>oct</td>\n      <td>tue</td>\n      <td>90.6</td>\n      <td>35.4</td>\n      <td>669.1</td>\n      <td>6.7</td>\n      <td>18.0</td>\n      <td>33</td>\n      <td>0.9</td>\n      <td>0.0</td>\n      <td>0.00</td>\n    </tr>\n    <tr>\n      <th>2</th>\n      <td>7</td>\n      <td>4</td>\n      <td>oct</td>\n      <td>sat</td>\n      <td>90.6</td>\n      <td>43.7</td>\n      <td>686.9</td>\n      <td>6.7</td>\n      <td>14.6</td>\n      <td>33</td>\n      <td>1.3</td>\n      <td>0.0</td>\n      <td>0.00</td>\n    </tr>\n    <tr>\n      <th>3</th>\n      <td>8</td>\n      <td>6</td>\n      <td>mar</td>\n      <td>fri</td>\n      <td>91.7</td>\n      <td>33.3</td>\n      <td>77.5</td>\n      <td>9.0</td>\n      <td>8.3</td>\n      <td>97</td>\n      <td>4.0</td>\n      <td>0.2</td>\n      <td>0.00</td>\n    </tr>\n    <tr>\n      <th>4</th>\n      <td>8</td>\n      <td>6</td>\n      <td>mar</td>\n      <td>sun</td>\n      <td>89.3</td>\n      <td>51.3</td>\n      <td>102.2</td>\n      <td>9.6</td>\n      <td>11.4</td>\n      <td>99</td>\n      <td>1.8</td>\n      <td>0.0</td>\n      <td>0.00</td>\n    </tr>\n    <tr>\n      <th>...</th>\n      <td>...</td>\n      <td>...</td>\n      <td>...</td>\n      <td>...</td>\n      <td>...</td>\n      <td>...</td>\n      <td>...</td>\n      <td>...</td>\n      <td>...</td>\n      <td>...</td>\n      <td>...</td>\n      <td>...</td>\n      <td>...</td>\n    </tr>\n    <tr>\n      <th>512</th>\n      <td>4</td>\n      <td>3</td>\n      <td>aug</td>\n      <td>sun</td>\n      <td>81.6</td>\n      <td>56.7</td>\n      <td>665.6</td>\n      <td>1.9</td>\n      <td>27.8</td>\n      <td>32</td>\n      <td>2.7</td>\n      <td>0.0</td>\n      <td>6.44</td>\n    </tr>\n    <tr>\n      <th>513</th>\n      <td>2</td>\n      <td>4</td>\n      <td>aug</td>\n      <td>sun</td>\n      <td>81.6</td>\n      <td>56.7</td>\n      <td>665.6</td>\n      <td>1.9</td>\n      <td>21.9</td>\n      <td>71</td>\n      <td>5.8</td>\n      <td>0.0</td>\n      <td>54.29</td>\n    </tr>\n    <tr>\n      <th>514</th>\n      <td>7</td>\n      <td>4</td>\n      <td>aug</td>\n      <td>sun</td>\n      <td>81.6</td>\n      <td>56.7</td>\n      <td>665.6</td>\n      <td>1.9</td>\n      <td>21.2</td>\n      <td>70</td>\n      <td>6.7</td>\n      <td>0.0</td>\n      <td>11.16</td>\n    </tr>\n    <tr>\n      <th>515</th>\n      <td>1</td>\n      <td>4</td>\n      <td>aug</td>\n      <td>sat</td>\n      <td>94.4</td>\n      <td>146.0</td>\n      <td>614.7</td>\n      <td>11.3</td>\n      <td>25.6</td>\n      <td>42</td>\n      <td>4.0</td>\n      <td>0.0</td>\n      <td>0.00</td>\n    </tr>\n    <tr>\n      <th>516</th>\n      <td>6</td>\n      <td>3</td>\n      <td>nov</td>\n      <td>tue</td>\n      <td>79.5</td>\n      <td>3.0</td>\n      <td>106.7</td>\n      <td>1.1</td>\n      <td>11.8</td>\n      <td>31</td>\n      <td>4.5</td>\n      <td>0.0</td>\n      <td>0.00</td>\n    </tr>\n  </tbody>\n</table>\n<p>517 rows × 13 columns</p>\n</div>"
     },
     "execution_count": 14,
     "metadata": {},
     "output_type": "execute_result"
    }
   ],
   "source": [
    "# Read Data with Features\n",
    "'''\n",
    "   1. X - x-axis spatial coordinate within the Montesinho park map: 1 to 9\n",
    "   2. Y - y-axis spatial coordinate within the Montesinho park map: 2 to 9\n",
    "   3. month - month of the year: \"jan\" to \"dec\"\n",
    "   4. day - day of the week: \"mon\" to \"sun\"\n",
    "   5. FFMC - FFMC index from the FWI system: 18.7 to 96.20\n",
    "   6. DMC - DMC index from the FWI system: 1.1 to 291.3\n",
    "   7. DC - DC index from the FWI system: 7.9 to 860.6\n",
    "   8. ISI - ISI index from the FWI system: 0.0 to 56.10\n",
    "   9. temp - temperature in Celsius degrees: 2.2 to 33.30\n",
    "   10. RH - relative humidity in %: 15.0 to 100\n",
    "   11. wind - wind speed in km/h: 0.40 to 9.40\n",
    "   12. rain - outside rain in mm/m2 : 0.0 to 6.4\n",
    "   13. area - the burned area of the forest (in ha): 0.00 to 1090.84\n",
    "   (this output variable is very skewed towards 0.0, thus it may make\n",
    "    sense to model with the logarithm transform).\n",
    "    '''\n",
    "\n",
    "featureNames = [\n",
    "    \"X\",\n",
    "    \"Y\",\n",
    "    \"Month\",\n",
    "    \"Day\",\n",
    "    \"FFMC\",\n",
    "    \"DMC\",\n",
    "    \"DC\",\n",
    "    \"ISI\",\n",
    "    \"temp\",\n",
    "    \"RH\",\n",
    "    \"Wind\",\n",
    "    \"Rain\",\n",
    "    \"Area\"\n",
    "]\n",
    "\n",
    "data = pandas.read_csv(\"../../data/ForestFires/forestfires.data\",\n",
    "                       names=featureNames,\n",
    "                       skiprows=[0])\n",
    "# Show original data frame\n",
    "print(\"Original Data Frame\")\n",
    "data"
   ],
   "metadata": {
    "collapsed": false,
    "pycharm": {
     "name": "#%%\n"
    }
   }
  },
  {
   "cell_type": "code",
   "execution_count": 15,
   "outputs": [
    {
     "name": "stdout",
     "output_type": "stream",
     "text": [
      "\n",
      "Data Frame after converting nominal values to categorical using one-hot encoding\n"
     ]
    },
    {
     "data": {
      "text/plain": "     X  Y           Month        Day  FFMC    DMC     DC   ISI  temp  RH  \\\n0    7  5  0b000010000000  0b0000001  86.2   26.2   94.3   5.1   8.2  51   \n1    7  4  0b010000000000  0b0100000  90.6   35.4  669.1   6.7  18.0  33   \n2    7  4  0b010000000000  0b0000100  90.6   43.7  686.9   6.7  14.6  33   \n3    8  6  0b000010000000  0b0000001  91.7   33.3   77.5   9.0   8.3  97   \n4    8  6  0b000010000000  0b0001000  89.3   51.3  102.2   9.6  11.4  99   \n..  .. ..             ...        ...   ...    ...    ...   ...   ...  ..   \n512  4  3  0b000000000010  0b0001000  81.6   56.7  665.6   1.9  27.8  32   \n513  2  4  0b000000000010  0b0001000  81.6   56.7  665.6   1.9  21.9  71   \n514  7  4  0b000000000010  0b0001000  81.6   56.7  665.6   1.9  21.2  70   \n515  1  4  0b000000000010  0b0000100  94.4  146.0  614.7  11.3  25.6  42   \n516  6  3  0b001000000000  0b0100000  79.5    3.0  106.7   1.1  11.8  31   \n\n     Wind  Rain   Area  \n0     6.7   0.0   0.00  \n1     0.9   0.0   0.00  \n2     1.3   0.0   0.00  \n3     4.0   0.2   0.00  \n4     1.8   0.0   0.00  \n..    ...   ...    ...  \n512   2.7   0.0   6.44  \n513   5.8   0.0  54.29  \n514   6.7   0.0  11.16  \n515   4.0   0.0   0.00  \n516   4.5   0.0   0.00  \n\n[517 rows x 13 columns]",
      "text/html": "<div>\n<style scoped>\n    .dataframe tbody tr th:only-of-type {\n        vertical-align: middle;\n    }\n\n    .dataframe tbody tr th {\n        vertical-align: top;\n    }\n\n    .dataframe thead th {\n        text-align: right;\n    }\n</style>\n<table border=\"1\" class=\"dataframe\">\n  <thead>\n    <tr style=\"text-align: right;\">\n      <th></th>\n      <th>X</th>\n      <th>Y</th>\n      <th>Month</th>\n      <th>Day</th>\n      <th>FFMC</th>\n      <th>DMC</th>\n      <th>DC</th>\n      <th>ISI</th>\n      <th>temp</th>\n      <th>RH</th>\n      <th>Wind</th>\n      <th>Rain</th>\n      <th>Area</th>\n    </tr>\n  </thead>\n  <tbody>\n    <tr>\n      <th>0</th>\n      <td>7</td>\n      <td>5</td>\n      <td>0b000010000000</td>\n      <td>0b0000001</td>\n      <td>86.2</td>\n      <td>26.2</td>\n      <td>94.3</td>\n      <td>5.1</td>\n      <td>8.2</td>\n      <td>51</td>\n      <td>6.7</td>\n      <td>0.0</td>\n      <td>0.00</td>\n    </tr>\n    <tr>\n      <th>1</th>\n      <td>7</td>\n      <td>4</td>\n      <td>0b010000000000</td>\n      <td>0b0100000</td>\n      <td>90.6</td>\n      <td>35.4</td>\n      <td>669.1</td>\n      <td>6.7</td>\n      <td>18.0</td>\n      <td>33</td>\n      <td>0.9</td>\n      <td>0.0</td>\n      <td>0.00</td>\n    </tr>\n    <tr>\n      <th>2</th>\n      <td>7</td>\n      <td>4</td>\n      <td>0b010000000000</td>\n      <td>0b0000100</td>\n      <td>90.6</td>\n      <td>43.7</td>\n      <td>686.9</td>\n      <td>6.7</td>\n      <td>14.6</td>\n      <td>33</td>\n      <td>1.3</td>\n      <td>0.0</td>\n      <td>0.00</td>\n    </tr>\n    <tr>\n      <th>3</th>\n      <td>8</td>\n      <td>6</td>\n      <td>0b000010000000</td>\n      <td>0b0000001</td>\n      <td>91.7</td>\n      <td>33.3</td>\n      <td>77.5</td>\n      <td>9.0</td>\n      <td>8.3</td>\n      <td>97</td>\n      <td>4.0</td>\n      <td>0.2</td>\n      <td>0.00</td>\n    </tr>\n    <tr>\n      <th>4</th>\n      <td>8</td>\n      <td>6</td>\n      <td>0b000010000000</td>\n      <td>0b0001000</td>\n      <td>89.3</td>\n      <td>51.3</td>\n      <td>102.2</td>\n      <td>9.6</td>\n      <td>11.4</td>\n      <td>99</td>\n      <td>1.8</td>\n      <td>0.0</td>\n      <td>0.00</td>\n    </tr>\n    <tr>\n      <th>...</th>\n      <td>...</td>\n      <td>...</td>\n      <td>...</td>\n      <td>...</td>\n      <td>...</td>\n      <td>...</td>\n      <td>...</td>\n      <td>...</td>\n      <td>...</td>\n      <td>...</td>\n      <td>...</td>\n      <td>...</td>\n      <td>...</td>\n    </tr>\n    <tr>\n      <th>512</th>\n      <td>4</td>\n      <td>3</td>\n      <td>0b000000000010</td>\n      <td>0b0001000</td>\n      <td>81.6</td>\n      <td>56.7</td>\n      <td>665.6</td>\n      <td>1.9</td>\n      <td>27.8</td>\n      <td>32</td>\n      <td>2.7</td>\n      <td>0.0</td>\n      <td>6.44</td>\n    </tr>\n    <tr>\n      <th>513</th>\n      <td>2</td>\n      <td>4</td>\n      <td>0b000000000010</td>\n      <td>0b0001000</td>\n      <td>81.6</td>\n      <td>56.7</td>\n      <td>665.6</td>\n      <td>1.9</td>\n      <td>21.9</td>\n      <td>71</td>\n      <td>5.8</td>\n      <td>0.0</td>\n      <td>54.29</td>\n    </tr>\n    <tr>\n      <th>514</th>\n      <td>7</td>\n      <td>4</td>\n      <td>0b000000000010</td>\n      <td>0b0001000</td>\n      <td>81.6</td>\n      <td>56.7</td>\n      <td>665.6</td>\n      <td>1.9</td>\n      <td>21.2</td>\n      <td>70</td>\n      <td>6.7</td>\n      <td>0.0</td>\n      <td>11.16</td>\n    </tr>\n    <tr>\n      <th>515</th>\n      <td>1</td>\n      <td>4</td>\n      <td>0b000000000010</td>\n      <td>0b0000100</td>\n      <td>94.4</td>\n      <td>146.0</td>\n      <td>614.7</td>\n      <td>11.3</td>\n      <td>25.6</td>\n      <td>42</td>\n      <td>4.0</td>\n      <td>0.0</td>\n      <td>0.00</td>\n    </tr>\n    <tr>\n      <th>516</th>\n      <td>6</td>\n      <td>3</td>\n      <td>0b001000000000</td>\n      <td>0b0100000</td>\n      <td>79.5</td>\n      <td>3.0</td>\n      <td>106.7</td>\n      <td>1.1</td>\n      <td>11.8</td>\n      <td>31</td>\n      <td>4.5</td>\n      <td>0.0</td>\n      <td>0.00</td>\n    </tr>\n  </tbody>\n</table>\n<p>517 rows × 13 columns</p>\n</div>"
     },
     "execution_count": 15,
     "metadata": {},
     "output_type": "execute_result"
    }
   ],
   "source": [
    "# Convert nominal data to categorical using one-hot encoding\n",
    "nominalFeatures = [\"Day\", \"Month\"]\n",
    "for nominalFeature in nominalFeatures:\n",
    "    uniqueValues = np.unique(data[nominalFeature])\n",
    "    convertNominal(data, nominalFeature, uniqueValues, inplace=True)\n",
    "# Show updated data frame\n",
    "print(\"\\nData Frame after converting nominal values to categorical using one-hot encoding\")\n",
    "data"
   ],
   "metadata": {
    "collapsed": false,
    "pycharm": {
     "name": "#%%\n"
    }
   }
  },
  {
   "cell_type": "code",
   "execution_count": 16,
   "outputs": [
    {
     "name": "stdout",
     "output_type": "stream",
     "text": [
      "\n",
      "Skewedness before applying log transformation: 0.19384294531649837\n",
      "Skewedness after applying log transformation: 0.19384294531649837\n",
      "Data Frame after applying a logarithm transformation\n"
     ]
    },
    {
     "data": {
      "text/plain": "     X  Y           Month        Day  FFMC    DMC     DC   ISI  temp  RH  \\\n0    7  5  0b000010000000  0b0000001  86.2   26.2   94.3   5.1   8.2  51   \n1    7  4  0b010000000000  0b0100000  90.6   35.4  669.1   6.7  18.0  33   \n2    7  4  0b010000000000  0b0000100  90.6   43.7  686.9   6.7  14.6  33   \n3    8  6  0b000010000000  0b0000001  91.7   33.3   77.5   9.0   8.3  97   \n4    8  6  0b000010000000  0b0001000  89.3   51.3  102.2   9.6  11.4  99   \n..  .. ..             ...        ...   ...    ...    ...   ...   ...  ..   \n512  4  3  0b000000000010  0b0001000  81.6   56.7  665.6   1.9  27.8  32   \n513  2  4  0b000000000010  0b0001000  81.6   56.7  665.6   1.9  21.9  71   \n514  7  4  0b000000000010  0b0001000  81.6   56.7  665.6   1.9  21.2  70   \n515  1  4  0b000000000010  0b0000100  94.4  146.0  614.7  11.3  25.6  42   \n516  6  3  0b001000000000  0b0100000  79.5    3.0  106.7   1.1  11.8  31   \n\n     Wind  Rain   Area  \n0     6.7   0.0   0.00  \n1     0.9   0.0   0.00  \n2     1.3   0.0   0.00  \n3     4.0   0.2   0.00  \n4     1.8   0.0   0.00  \n..    ...   ...    ...  \n512   2.7   0.0   6.44  \n513   5.8   0.0  54.29  \n514   6.7   0.0  11.16  \n515   4.0   0.0   0.00  \n516   4.5   0.0   0.00  \n\n[517 rows x 13 columns]",
      "text/html": "<div>\n<style scoped>\n    .dataframe tbody tr th:only-of-type {\n        vertical-align: middle;\n    }\n\n    .dataframe tbody tr th {\n        vertical-align: top;\n    }\n\n    .dataframe thead th {\n        text-align: right;\n    }\n</style>\n<table border=\"1\" class=\"dataframe\">\n  <thead>\n    <tr style=\"text-align: right;\">\n      <th></th>\n      <th>X</th>\n      <th>Y</th>\n      <th>Month</th>\n      <th>Day</th>\n      <th>FFMC</th>\n      <th>DMC</th>\n      <th>DC</th>\n      <th>ISI</th>\n      <th>temp</th>\n      <th>RH</th>\n      <th>Wind</th>\n      <th>Rain</th>\n      <th>Area</th>\n    </tr>\n  </thead>\n  <tbody>\n    <tr>\n      <th>0</th>\n      <td>7</td>\n      <td>5</td>\n      <td>0b000010000000</td>\n      <td>0b0000001</td>\n      <td>86.2</td>\n      <td>26.2</td>\n      <td>94.3</td>\n      <td>5.1</td>\n      <td>8.2</td>\n      <td>51</td>\n      <td>6.7</td>\n      <td>0.0</td>\n      <td>0.00</td>\n    </tr>\n    <tr>\n      <th>1</th>\n      <td>7</td>\n      <td>4</td>\n      <td>0b010000000000</td>\n      <td>0b0100000</td>\n      <td>90.6</td>\n      <td>35.4</td>\n      <td>669.1</td>\n      <td>6.7</td>\n      <td>18.0</td>\n      <td>33</td>\n      <td>0.9</td>\n      <td>0.0</td>\n      <td>0.00</td>\n    </tr>\n    <tr>\n      <th>2</th>\n      <td>7</td>\n      <td>4</td>\n      <td>0b010000000000</td>\n      <td>0b0000100</td>\n      <td>90.6</td>\n      <td>43.7</td>\n      <td>686.9</td>\n      <td>6.7</td>\n      <td>14.6</td>\n      <td>33</td>\n      <td>1.3</td>\n      <td>0.0</td>\n      <td>0.00</td>\n    </tr>\n    <tr>\n      <th>3</th>\n      <td>8</td>\n      <td>6</td>\n      <td>0b000010000000</td>\n      <td>0b0000001</td>\n      <td>91.7</td>\n      <td>33.3</td>\n      <td>77.5</td>\n      <td>9.0</td>\n      <td>8.3</td>\n      <td>97</td>\n      <td>4.0</td>\n      <td>0.2</td>\n      <td>0.00</td>\n    </tr>\n    <tr>\n      <th>4</th>\n      <td>8</td>\n      <td>6</td>\n      <td>0b000010000000</td>\n      <td>0b0001000</td>\n      <td>89.3</td>\n      <td>51.3</td>\n      <td>102.2</td>\n      <td>9.6</td>\n      <td>11.4</td>\n      <td>99</td>\n      <td>1.8</td>\n      <td>0.0</td>\n      <td>0.00</td>\n    </tr>\n    <tr>\n      <th>...</th>\n      <td>...</td>\n      <td>...</td>\n      <td>...</td>\n      <td>...</td>\n      <td>...</td>\n      <td>...</td>\n      <td>...</td>\n      <td>...</td>\n      <td>...</td>\n      <td>...</td>\n      <td>...</td>\n      <td>...</td>\n      <td>...</td>\n    </tr>\n    <tr>\n      <th>512</th>\n      <td>4</td>\n      <td>3</td>\n      <td>0b000000000010</td>\n      <td>0b0001000</td>\n      <td>81.6</td>\n      <td>56.7</td>\n      <td>665.6</td>\n      <td>1.9</td>\n      <td>27.8</td>\n      <td>32</td>\n      <td>2.7</td>\n      <td>0.0</td>\n      <td>6.44</td>\n    </tr>\n    <tr>\n      <th>513</th>\n      <td>2</td>\n      <td>4</td>\n      <td>0b000000000010</td>\n      <td>0b0001000</td>\n      <td>81.6</td>\n      <td>56.7</td>\n      <td>665.6</td>\n      <td>1.9</td>\n      <td>21.9</td>\n      <td>71</td>\n      <td>5.8</td>\n      <td>0.0</td>\n      <td>54.29</td>\n    </tr>\n    <tr>\n      <th>514</th>\n      <td>7</td>\n      <td>4</td>\n      <td>0b000000000010</td>\n      <td>0b0001000</td>\n      <td>81.6</td>\n      <td>56.7</td>\n      <td>665.6</td>\n      <td>1.9</td>\n      <td>21.2</td>\n      <td>70</td>\n      <td>6.7</td>\n      <td>0.0</td>\n      <td>11.16</td>\n    </tr>\n    <tr>\n      <th>515</th>\n      <td>1</td>\n      <td>4</td>\n      <td>0b000000000010</td>\n      <td>0b0000100</td>\n      <td>94.4</td>\n      <td>146.0</td>\n      <td>614.7</td>\n      <td>11.3</td>\n      <td>25.6</td>\n      <td>42</td>\n      <td>4.0</td>\n      <td>0.0</td>\n      <td>0.00</td>\n    </tr>\n    <tr>\n      <th>516</th>\n      <td>6</td>\n      <td>3</td>\n      <td>0b001000000000</td>\n      <td>0b0100000</td>\n      <td>79.5</td>\n      <td>3.0</td>\n      <td>106.7</td>\n      <td>1.1</td>\n      <td>11.8</td>\n      <td>31</td>\n      <td>4.5</td>\n      <td>0.0</td>\n      <td>0.00</td>\n    </tr>\n  </tbody>\n</table>\n<p>517 rows × 13 columns</p>\n</div>"
     },
     "execution_count": 16,
     "metadata": {},
     "output_type": "execute_result"
    }
   ],
   "source": [
    "# Suggestion: Apply a log transformation to the area column.\n",
    "# Experiment: Compute skewedness metric to determine skewedness before/after log transformation\n",
    "def computePearsonModeSkewedness(arr):\n",
    "    arrMean = np.mean(arr)\n",
    "    arrMedian = np.median(arr)\n",
    "    arrStddev = np.std(arr)\n",
    "    return ((arrMean - arrMedian) / arrStddev)\n",
    "\n",
    "beforeSkewedness = computePearsonModeSkewedness(list(data[\"Area\"]))\n",
    "print(f\"\\nSkewedness before applying log transformation: {beforeSkewedness}\")\n",
    "# Apply the log transformation to the area column.\n",
    "# data[\"Area\"] = data[\"Area\"].map(lambda x: x+2) # Add one to prevent math domain errors (e.g. log2(0))\n",
    "# data[\"Area\"] = data[\"Area\"].map(lambda x: math.log(x,2))\n",
    "afterSkewedness = computePearsonModeSkewedness(list(data[\"Area\"]))\n",
    "print(f\"Skewedness after applying log transformation: {afterSkewedness}\")\n",
    "\n",
    "# Show updated data frame\n",
    "print(\"Data Frame after applying a logarithm transformation\")\n",
    "data"
   ],
   "metadata": {
    "collapsed": false,
    "pycharm": {
     "name": "#%%\n"
    }
   }
  },
  {
   "cell_type": "code",
   "execution_count": 17,
   "outputs": [
    {
     "name": "stdout",
     "output_type": "stream",
     "text": [
      "\n",
      "Partition data into 5 folds with train, test, and (Optional) validation sets.\n",
      "Fold 0, size=104\n",
      "Fold 1, size=104\n",
      "Fold 2, size=104\n",
      "Fold 3, size=104\n",
      "Fold 4, size=101\n"
     ]
    }
   ],
   "source": [
    "# Partition data into folds\n",
    "k = 5\n",
    "print(f\"\\nPartition data into {k} folds with train, test, and (Optional) validation sets.\")\n",
    "folds = partition(data, k, classificationColumnId=None)\n",
    "for i in range(0, len(folds)):\n",
    "    print(f\"Fold {i}, size={len(folds[i])}\")"
   ],
   "metadata": {
    "collapsed": false,
    "pycharm": {
     "name": "#%%\n"
    }
   }
  },
  {
   "cell_type": "code",
   "execution_count": 18,
   "outputs": [
    {
     "name": "stdout",
     "output_type": "stream",
     "text": [
      "\n",
      "Learning Performance Evaluation\n"
     ]
    },
    {
     "data": {
      "text/plain": "Fold       MSE    MAE    R2  Pearson\n0     12242.09  26.10 -0.01      0.0\n1       291.23  13.08 -0.18      0.0\n2      5647.38  20.77 -0.00      0.0\n3       832.78  16.18 -0.04     -0.0\n4      1216.44  16.94 -0.01     -0.0",
      "text/html": "<div>\n<style scoped>\n    .dataframe tbody tr th:only-of-type {\n        vertical-align: middle;\n    }\n\n    .dataframe tbody tr th {\n        vertical-align: top;\n    }\n\n    .dataframe thead th {\n        text-align: right;\n    }\n</style>\n<table border=\"1\" class=\"dataframe\">\n  <thead>\n    <tr style=\"text-align: right;\">\n      <th>Fold</th>\n      <th>MSE</th>\n      <th>MAE</th>\n      <th>R2</th>\n      <th>Pearson</th>\n    </tr>\n  </thead>\n  <tbody>\n    <tr>\n      <th>0</th>\n      <td>12242.09</td>\n      <td>26.10</td>\n      <td>-0.01</td>\n      <td>0.0</td>\n    </tr>\n    <tr>\n      <th>1</th>\n      <td>291.23</td>\n      <td>13.08</td>\n      <td>-0.18</td>\n      <td>0.0</td>\n    </tr>\n    <tr>\n      <th>2</th>\n      <td>5647.38</td>\n      <td>20.77</td>\n      <td>-0.00</td>\n      <td>0.0</td>\n    </tr>\n    <tr>\n      <th>3</th>\n      <td>832.78</td>\n      <td>16.18</td>\n      <td>-0.04</td>\n      <td>-0.0</td>\n    </tr>\n    <tr>\n      <th>4</th>\n      <td>1216.44</td>\n      <td>16.94</td>\n      <td>-0.01</td>\n      <td>-0.0</td>\n    </tr>\n  </tbody>\n</table>\n</div>"
     },
     "execution_count": 18,
     "metadata": {},
     "output_type": "execute_result"
    }
   ],
   "source": [
    "# Test our learner\n",
    "className = \"Area\"\n",
    "foldEvaluations = []\n",
    "for i in range(0,k):\n",
    "    testingSet = folds.pop(i)\n",
    "    trainingSet = pandas.concat(folds, ignore_index=True)\n",
    "    folds.insert(i, testingSet)\n",
    "    # Make a prediction\n",
    "    prediction = naivePredictor(trainingSet, testingSet, classificationColId=className, method=\"regression\")\n",
    "    predicted_scores = [prediction for x in range(0,len(testingSet))]\n",
    "    # Compose a performance evaluation, based on multiple metrics\n",
    "    mse = evaluateError(predicted_scores, testingSet[className], method=\"MSE\")\n",
    "    mae = evaluateError(predicted_scores, testingSet[className], method=\"MAE\")\n",
    "    r2 = evaluateError(predicted_scores, testingSet[className], method=\"R2\")\n",
    "    pearson = evaluateError(predicted_scores, testingSet[className], method=\"pearson\")\n",
    "    foldEvaluation = {\n",
    "        'MSE' : mse,\n",
    "        'MAE' : mae,\n",
    "        'R2': r2,\n",
    "        'Pearson': pearson\n",
    "    }\n",
    "    foldEvaluations.append(foldEvaluation)\n",
    "\n",
    "print(\"\\nLearning Performance Evaluation\")\n",
    "evalDf = pandas.DataFrame(foldEvaluations)\n",
    "# evalDf.index.name = 'Fold'\n",
    "evalDf = evalDf.rename_axis(index=None, columns='Fold')\n",
    "evalDf.round(2)"
   ],
   "metadata": {
    "collapsed": false,
    "pycharm": {
     "name": "#%%\n"
    }
   }
  },
  {
   "cell_type": "code",
   "execution_count": null,
   "outputs": [],
   "source": [
    "import numpy as np\n",
    "avgMSE = np.mean(evalDf[\"MSE\"])\n",
    "\n",
    "print(f\"Average Mean Squared Error: {avgMSE}\")"
   ],
   "metadata": {
    "collapsed": false,
    "pycharm": {
     "name": "#%%\n"
    }
   }
  }
 ],
 "metadata": {
  "kernelspec": {
   "display_name": "Python 3",
   "language": "python",
   "name": "python3"
  },
  "language_info": {
   "codemirror_mode": {
    "name": "ipython",
    "version": 2
   },
   "file_extension": ".py",
   "mimetype": "text/x-python",
   "name": "python",
   "nbconvert_exporter": "python",
   "pygments_lexer": "ipython2",
   "version": "2.7.6"
  }
 },
 "nbformat": 4,
 "nbformat_minor": 0
}