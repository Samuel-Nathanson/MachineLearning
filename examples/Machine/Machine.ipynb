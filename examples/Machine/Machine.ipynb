{
 "cells": [
  {
   "cell_type": "code",
   "execution_count": 7,
   "metadata": {
    "collapsed": true,
    "pycharm": {
     "name": "#%%\n"
    }
   },
   "outputs": [],
   "source": [
    "%reload_ext autoreload\n",
    "%autoreload 2\n",
    "# Import Libraries\n",
    "from lib.PreprocessingTK import *\n",
    "import pandas\n",
    "import numpy as np\n"
   ]
  },
  {
   "cell_type": "code",
   "execution_count": 8,
   "outputs": [
    {
     "name": "stdout",
     "output_type": "stream",
     "text": [
      "\n",
      "Original Data Frame\n"
     ]
    },
    {
     "data": {
      "text/plain": "    VendorName      ModelName  MYCT  MMIN   MMAX  CACH  CHMIN  CHMAX  PRP  ERP\n0      adviser          32/60   125   256   6000   256     16    128  198  199\n1       amdahl         470v/7    29  8000  32000    32      8     32  269  253\n2       amdahl        470v/7a    29  8000  32000    32      8     32  220  253\n3       amdahl        470v/7b    29  8000  32000    32      8     32  172  253\n4       amdahl        470v/7c    29  8000  16000    32      8     16  132  132\n..         ...            ...   ...   ...    ...   ...    ...    ...  ...  ...\n204     sperry           80/8   124  1000   8000     0      1      8   42   37\n205     sperry  90/80-model-3    98  1000   8000    32      2      8   46   50\n206     sratus             32   125  2000   8000     0      2     14   52   41\n207       wang         vs-100   480   512   8000    32      0      0   67   47\n208       wang          vs-90   480  1000   4000     0      0      0   45   25\n\n[209 rows x 10 columns]",
      "text/html": "<div>\n<style scoped>\n    .dataframe tbody tr th:only-of-type {\n        vertical-align: middle;\n    }\n\n    .dataframe tbody tr th {\n        vertical-align: top;\n    }\n\n    .dataframe thead th {\n        text-align: right;\n    }\n</style>\n<table border=\"1\" class=\"dataframe\">\n  <thead>\n    <tr style=\"text-align: right;\">\n      <th></th>\n      <th>VendorName</th>\n      <th>ModelName</th>\n      <th>MYCT</th>\n      <th>MMIN</th>\n      <th>MMAX</th>\n      <th>CACH</th>\n      <th>CHMIN</th>\n      <th>CHMAX</th>\n      <th>PRP</th>\n      <th>ERP</th>\n    </tr>\n  </thead>\n  <tbody>\n    <tr>\n      <th>0</th>\n      <td>adviser</td>\n      <td>32/60</td>\n      <td>125</td>\n      <td>256</td>\n      <td>6000</td>\n      <td>256</td>\n      <td>16</td>\n      <td>128</td>\n      <td>198</td>\n      <td>199</td>\n    </tr>\n    <tr>\n      <th>1</th>\n      <td>amdahl</td>\n      <td>470v/7</td>\n      <td>29</td>\n      <td>8000</td>\n      <td>32000</td>\n      <td>32</td>\n      <td>8</td>\n      <td>32</td>\n      <td>269</td>\n      <td>253</td>\n    </tr>\n    <tr>\n      <th>2</th>\n      <td>amdahl</td>\n      <td>470v/7a</td>\n      <td>29</td>\n      <td>8000</td>\n      <td>32000</td>\n      <td>32</td>\n      <td>8</td>\n      <td>32</td>\n      <td>220</td>\n      <td>253</td>\n    </tr>\n    <tr>\n      <th>3</th>\n      <td>amdahl</td>\n      <td>470v/7b</td>\n      <td>29</td>\n      <td>8000</td>\n      <td>32000</td>\n      <td>32</td>\n      <td>8</td>\n      <td>32</td>\n      <td>172</td>\n      <td>253</td>\n    </tr>\n    <tr>\n      <th>4</th>\n      <td>amdahl</td>\n      <td>470v/7c</td>\n      <td>29</td>\n      <td>8000</td>\n      <td>16000</td>\n      <td>32</td>\n      <td>8</td>\n      <td>16</td>\n      <td>132</td>\n      <td>132</td>\n    </tr>\n    <tr>\n      <th>...</th>\n      <td>...</td>\n      <td>...</td>\n      <td>...</td>\n      <td>...</td>\n      <td>...</td>\n      <td>...</td>\n      <td>...</td>\n      <td>...</td>\n      <td>...</td>\n      <td>...</td>\n    </tr>\n    <tr>\n      <th>204</th>\n      <td>sperry</td>\n      <td>80/8</td>\n      <td>124</td>\n      <td>1000</td>\n      <td>8000</td>\n      <td>0</td>\n      <td>1</td>\n      <td>8</td>\n      <td>42</td>\n      <td>37</td>\n    </tr>\n    <tr>\n      <th>205</th>\n      <td>sperry</td>\n      <td>90/80-model-3</td>\n      <td>98</td>\n      <td>1000</td>\n      <td>8000</td>\n      <td>32</td>\n      <td>2</td>\n      <td>8</td>\n      <td>46</td>\n      <td>50</td>\n    </tr>\n    <tr>\n      <th>206</th>\n      <td>sratus</td>\n      <td>32</td>\n      <td>125</td>\n      <td>2000</td>\n      <td>8000</td>\n      <td>0</td>\n      <td>2</td>\n      <td>14</td>\n      <td>52</td>\n      <td>41</td>\n    </tr>\n    <tr>\n      <th>207</th>\n      <td>wang</td>\n      <td>vs-100</td>\n      <td>480</td>\n      <td>512</td>\n      <td>8000</td>\n      <td>32</td>\n      <td>0</td>\n      <td>0</td>\n      <td>67</td>\n      <td>47</td>\n    </tr>\n    <tr>\n      <th>208</th>\n      <td>wang</td>\n      <td>vs-90</td>\n      <td>480</td>\n      <td>1000</td>\n      <td>4000</td>\n      <td>0</td>\n      <td>0</td>\n      <td>0</td>\n      <td>45</td>\n      <td>25</td>\n    </tr>\n  </tbody>\n</table>\n<p>209 rows × 10 columns</p>\n</div>"
     },
     "execution_count": 8,
     "metadata": {},
     "output_type": "execute_result"
    }
   ],
   "source": [
    "# Read Data with Features\n",
    "'''\n",
    "   1. vendor name: 30\n",
    "      (adviser, amdahl,apollo, basf, bti, burroughs, c.r.d, cambex, cdc, dec,\n",
    "       dg, formation, four-phase, gould, honeywell, hp, ibm, ipl, magnuson,\n",
    "       microdata, nas, ncr, nixdorf, perkin-elmer, prime, siemens, sperry,\n",
    "       sratus, wang)\n",
    "   2. Model Name: many unique symbols\n",
    "   3. MYCT: machine cycle time in nanoseconds (integer)\n",
    "   4. MMIN: minimum main memory in kilobytes (integer)\n",
    "   5. MMAX: maximum main memory in kilobytes (integer)\n",
    "   6. CACH: cache memory in kilobytes (integer)\n",
    "   7. CHMIN: minimum channels in units (integer)\n",
    "   8. CHMAX: maximum channels in units (integer)\n",
    "   9. PRP: published relative performance (integer)\n",
    "  10. ERP: estimated relative performance from the original article (integer)\n",
    "  '''\n",
    "\n",
    "featureNames = [\n",
    "    \"VendorName\",\n",
    "    \"ModelName\",\n",
    "    \"MYCT\",\n",
    "    \"MMIN\",\n",
    "    \"MMAX\",\n",
    "    \"CACH\",\n",
    "    \"CHMIN\",\n",
    "    \"CHMAX\",\n",
    "    \"PRP\",\n",
    "    \"ERP\"\n",
    "]\n",
    "\n",
    "data = pandas.read_csv(\"../../data/Machine/machine.data\",\n",
    "                       names=featureNames)\n",
    "\n",
    "# Show original data frame\n",
    "print(\"\\nOriginal Data Frame\")\n",
    "data"
   ],
   "metadata": {
    "collapsed": false,
    "pycharm": {
     "name": "#%%\n"
    }
   }
  },
  {
   "cell_type": "code",
   "execution_count": 9,
   "outputs": [
    {
     "name": "stdout",
     "output_type": "stream",
     "text": [
      "Data Frame after converting nominal values to categorical using one-hot encoding\n"
     ]
    },
    {
     "data": {
      "text/plain": "                           VendorName  \\\n0    0b000000000000000000000000000001   \n1    0b000000000000000000000000000010   \n2    0b000000000000000000000000000010   \n3    0b000000000000000000000000000010   \n4    0b000000000000000000000000000010   \n..                                ...   \n204  0b001000000000000000000000000000   \n205  0b001000000000000000000000000000   \n206  0b010000000000000000000000000000   \n207  0b100000000000000000000000000000   \n208  0b100000000000000000000000000000   \n\n                                             ModelName  MYCT  MMIN   MMAX  \\\n0    0b00000000000000000000000000000000000000000000...   125   256   6000   \n1    0b00000000000000000000000000000000000000000000...    29  8000  32000   \n2    0b00000000000000000000000000000000000000000000...    29  8000  32000   \n3    0b00000000000000000000000000000000000000000000...    29  8000  32000   \n4    0b00000000000000000000000000000000000000000000...    29  8000  16000   \n..                                                 ...   ...   ...    ...   \n204  0b00000000000000000000000000000000000000000000...   124  1000   8000   \n205  0b00000000000000000000000000000000000000000000...    98  1000   8000   \n206  0b00000000000000000000000000000000000000000000...   125  2000   8000   \n207  0b01000000000000000000000000000000000000000000...   480   512   8000   \n208  0b10000000000000000000000000000000000000000000...   480  1000   4000   \n\n     CACH  CHMIN  CHMAX  PRP  ERP  \n0     256     16    128  198  199  \n1      32      8     32  269  253  \n2      32      8     32  220  253  \n3      32      8     32  172  253  \n4      32      8     16  132  132  \n..    ...    ...    ...  ...  ...  \n204     0      1      8   42   37  \n205    32      2      8   46   50  \n206     0      2     14   52   41  \n207    32      0      0   67   47  \n208     0      0      0   45   25  \n\n[209 rows x 10 columns]",
      "text/html": "<div>\n<style scoped>\n    .dataframe tbody tr th:only-of-type {\n        vertical-align: middle;\n    }\n\n    .dataframe tbody tr th {\n        vertical-align: top;\n    }\n\n    .dataframe thead th {\n        text-align: right;\n    }\n</style>\n<table border=\"1\" class=\"dataframe\">\n  <thead>\n    <tr style=\"text-align: right;\">\n      <th></th>\n      <th>VendorName</th>\n      <th>ModelName</th>\n      <th>MYCT</th>\n      <th>MMIN</th>\n      <th>MMAX</th>\n      <th>CACH</th>\n      <th>CHMIN</th>\n      <th>CHMAX</th>\n      <th>PRP</th>\n      <th>ERP</th>\n    </tr>\n  </thead>\n  <tbody>\n    <tr>\n      <th>0</th>\n      <td>0b000000000000000000000000000001</td>\n      <td>0b00000000000000000000000000000000000000000000...</td>\n      <td>125</td>\n      <td>256</td>\n      <td>6000</td>\n      <td>256</td>\n      <td>16</td>\n      <td>128</td>\n      <td>198</td>\n      <td>199</td>\n    </tr>\n    <tr>\n      <th>1</th>\n      <td>0b000000000000000000000000000010</td>\n      <td>0b00000000000000000000000000000000000000000000...</td>\n      <td>29</td>\n      <td>8000</td>\n      <td>32000</td>\n      <td>32</td>\n      <td>8</td>\n      <td>32</td>\n      <td>269</td>\n      <td>253</td>\n    </tr>\n    <tr>\n      <th>2</th>\n      <td>0b000000000000000000000000000010</td>\n      <td>0b00000000000000000000000000000000000000000000...</td>\n      <td>29</td>\n      <td>8000</td>\n      <td>32000</td>\n      <td>32</td>\n      <td>8</td>\n      <td>32</td>\n      <td>220</td>\n      <td>253</td>\n    </tr>\n    <tr>\n      <th>3</th>\n      <td>0b000000000000000000000000000010</td>\n      <td>0b00000000000000000000000000000000000000000000...</td>\n      <td>29</td>\n      <td>8000</td>\n      <td>32000</td>\n      <td>32</td>\n      <td>8</td>\n      <td>32</td>\n      <td>172</td>\n      <td>253</td>\n    </tr>\n    <tr>\n      <th>4</th>\n      <td>0b000000000000000000000000000010</td>\n      <td>0b00000000000000000000000000000000000000000000...</td>\n      <td>29</td>\n      <td>8000</td>\n      <td>16000</td>\n      <td>32</td>\n      <td>8</td>\n      <td>16</td>\n      <td>132</td>\n      <td>132</td>\n    </tr>\n    <tr>\n      <th>...</th>\n      <td>...</td>\n      <td>...</td>\n      <td>...</td>\n      <td>...</td>\n      <td>...</td>\n      <td>...</td>\n      <td>...</td>\n      <td>...</td>\n      <td>...</td>\n      <td>...</td>\n    </tr>\n    <tr>\n      <th>204</th>\n      <td>0b001000000000000000000000000000</td>\n      <td>0b00000000000000000000000000000000000000000000...</td>\n      <td>124</td>\n      <td>1000</td>\n      <td>8000</td>\n      <td>0</td>\n      <td>1</td>\n      <td>8</td>\n      <td>42</td>\n      <td>37</td>\n    </tr>\n    <tr>\n      <th>205</th>\n      <td>0b001000000000000000000000000000</td>\n      <td>0b00000000000000000000000000000000000000000000...</td>\n      <td>98</td>\n      <td>1000</td>\n      <td>8000</td>\n      <td>32</td>\n      <td>2</td>\n      <td>8</td>\n      <td>46</td>\n      <td>50</td>\n    </tr>\n    <tr>\n      <th>206</th>\n      <td>0b010000000000000000000000000000</td>\n      <td>0b00000000000000000000000000000000000000000000...</td>\n      <td>125</td>\n      <td>2000</td>\n      <td>8000</td>\n      <td>0</td>\n      <td>2</td>\n      <td>14</td>\n      <td>52</td>\n      <td>41</td>\n    </tr>\n    <tr>\n      <th>207</th>\n      <td>0b100000000000000000000000000000</td>\n      <td>0b01000000000000000000000000000000000000000000...</td>\n      <td>480</td>\n      <td>512</td>\n      <td>8000</td>\n      <td>32</td>\n      <td>0</td>\n      <td>0</td>\n      <td>67</td>\n      <td>47</td>\n    </tr>\n    <tr>\n      <th>208</th>\n      <td>0b100000000000000000000000000000</td>\n      <td>0b10000000000000000000000000000000000000000000...</td>\n      <td>480</td>\n      <td>1000</td>\n      <td>4000</td>\n      <td>0</td>\n      <td>0</td>\n      <td>0</td>\n      <td>45</td>\n      <td>25</td>\n    </tr>\n  </tbody>\n</table>\n<p>209 rows × 10 columns</p>\n</div>"
     },
     "execution_count": 9,
     "metadata": {},
     "output_type": "execute_result"
    }
   ],
   "source": [
    "# Convert nominal data to categorical using one-hot encoding\n",
    "# Convert nominal data to categorical using one-hot encoding\n",
    "nominalFeatures = [\"VendorName\", \"ModelName\"]\n",
    "for nominalFeature in nominalFeatures:\n",
    "    uniqueValues = np.unique(data[nominalFeature])\n",
    "    convertNominal(data, nominalFeature, uniqueValues, inplace=True)\n",
    "# Show updated data frame\n",
    "print(\"Data Frame after converting nominal values to categorical using one-hot encoding\")\n",
    "data"
   ],
   "metadata": {
    "collapsed": false,
    "pycharm": {
     "name": "#%%\n"
    }
   }
  },
  {
   "cell_type": "code",
   "execution_count": 10,
   "outputs": [
    {
     "name": "stdout",
     "output_type": "stream",
     "text": [
      "\n",
      "For demonstration purposes: Discretize PRP column into 10 bins based on frequency\n",
      "Data Frame after discretizing the PRP field into 10 bins of equal frequency (Showing PRP column.)\n"
     ]
    },
    {
     "data": {
      "text/plain": "                           VendorName  \\\n99   0b000000000000100000000000000000   \n181  0b000100000000000000000000000000   \n102  0b000000000000100000000000000000   \n157  0b000000010000000000000000000000   \n14   0b000000000000000000000000010000   \n..                                ...   \n156  0b000000001000000000000000000000   \n8    0b000000000000000000000000000010   \n198  0b001000000000000000000000000000   \n9    0b000000000000000000000000000010   \n199  0b001000000000000000000000000000   \n\n                                             ModelName  MYCT   MMIN   MMAX  \\\n99   0b00000000000000000000000000000000000000000000...   480     96    512   \n181  0b00000000000000000000000000000000000000000000...   240    512   1000   \n102  0b00000000000000000000000000000000000000000000...  1100    512   1500   \n157  0b00000000000000000100000000000000000000000000...   112   1000   1000   \n14   0b00000000000000000000000000000000000000000000...   350     64     64   \n..                                                 ...   ...    ...    ...   \n156  0b00000000000000000000000000000000000000000000...    30  16000  32000   \n8    0b00000000000000000000000000000000000000000000...    23  16000  64000   \n198  0b00000000000000000000000000000000000000000000...    30   8000  64000   \n9    0b00000000000000000000000000000000000000000000...    23  32000  64000   \n199  0b00000000000000000000000000000000000000000000...    30   8000  64000   \n\n     CACH  CHMIN  CHMAX  PRP   ERP  \n99      0      1      1    6    15  \n181     8      1      3    6    19  \n102     0      1      1    6    18  \n157     0      1      4    6    19  \n14      0      1      4    6    15  \n..    ...    ...    ...  ...   ...  \n156   256     16     24  274   603  \n8      64     16     32  274   749  \n198    96     12    176  274   919  \n9     128     32     64  274  1238  \n199   128     12    176  274   978  \n\n[209 rows x 10 columns]",
      "text/html": "<div>\n<style scoped>\n    .dataframe tbody tr th:only-of-type {\n        vertical-align: middle;\n    }\n\n    .dataframe tbody tr th {\n        vertical-align: top;\n    }\n\n    .dataframe thead th {\n        text-align: right;\n    }\n</style>\n<table border=\"1\" class=\"dataframe\">\n  <thead>\n    <tr style=\"text-align: right;\">\n      <th></th>\n      <th>VendorName</th>\n      <th>ModelName</th>\n      <th>MYCT</th>\n      <th>MMIN</th>\n      <th>MMAX</th>\n      <th>CACH</th>\n      <th>CHMIN</th>\n      <th>CHMAX</th>\n      <th>PRP</th>\n      <th>ERP</th>\n    </tr>\n  </thead>\n  <tbody>\n    <tr>\n      <th>99</th>\n      <td>0b000000000000100000000000000000</td>\n      <td>0b00000000000000000000000000000000000000000000...</td>\n      <td>480</td>\n      <td>96</td>\n      <td>512</td>\n      <td>0</td>\n      <td>1</td>\n      <td>1</td>\n      <td>6</td>\n      <td>15</td>\n    </tr>\n    <tr>\n      <th>181</th>\n      <td>0b000100000000000000000000000000</td>\n      <td>0b00000000000000000000000000000000000000000000...</td>\n      <td>240</td>\n      <td>512</td>\n      <td>1000</td>\n      <td>8</td>\n      <td>1</td>\n      <td>3</td>\n      <td>6</td>\n      <td>19</td>\n    </tr>\n    <tr>\n      <th>102</th>\n      <td>0b000000000000100000000000000000</td>\n      <td>0b00000000000000000000000000000000000000000000...</td>\n      <td>1100</td>\n      <td>512</td>\n      <td>1500</td>\n      <td>0</td>\n      <td>1</td>\n      <td>1</td>\n      <td>6</td>\n      <td>18</td>\n    </tr>\n    <tr>\n      <th>157</th>\n      <td>0b000000010000000000000000000000</td>\n      <td>0b00000000000000000100000000000000000000000000...</td>\n      <td>112</td>\n      <td>1000</td>\n      <td>1000</td>\n      <td>0</td>\n      <td>1</td>\n      <td>4</td>\n      <td>6</td>\n      <td>19</td>\n    </tr>\n    <tr>\n      <th>14</th>\n      <td>0b000000000000000000000000010000</td>\n      <td>0b00000000000000000000000000000000000000000000...</td>\n      <td>350</td>\n      <td>64</td>\n      <td>64</td>\n      <td>0</td>\n      <td>1</td>\n      <td>4</td>\n      <td>6</td>\n      <td>15</td>\n    </tr>\n    <tr>\n      <th>...</th>\n      <td>...</td>\n      <td>...</td>\n      <td>...</td>\n      <td>...</td>\n      <td>...</td>\n      <td>...</td>\n      <td>...</td>\n      <td>...</td>\n      <td>...</td>\n      <td>...</td>\n    </tr>\n    <tr>\n      <th>156</th>\n      <td>0b000000001000000000000000000000</td>\n      <td>0b00000000000000000000000000000000000000000000...</td>\n      <td>30</td>\n      <td>16000</td>\n      <td>32000</td>\n      <td>256</td>\n      <td>16</td>\n      <td>24</td>\n      <td>274</td>\n      <td>603</td>\n    </tr>\n    <tr>\n      <th>8</th>\n      <td>0b000000000000000000000000000010</td>\n      <td>0b00000000000000000000000000000000000000000000...</td>\n      <td>23</td>\n      <td>16000</td>\n      <td>64000</td>\n      <td>64</td>\n      <td>16</td>\n      <td>32</td>\n      <td>274</td>\n      <td>749</td>\n    </tr>\n    <tr>\n      <th>198</th>\n      <td>0b001000000000000000000000000000</td>\n      <td>0b00000000000000000000000000000000000000000000...</td>\n      <td>30</td>\n      <td>8000</td>\n      <td>64000</td>\n      <td>96</td>\n      <td>12</td>\n      <td>176</td>\n      <td>274</td>\n      <td>919</td>\n    </tr>\n    <tr>\n      <th>9</th>\n      <td>0b000000000000000000000000000010</td>\n      <td>0b00000000000000000000000000000000000000000000...</td>\n      <td>23</td>\n      <td>32000</td>\n      <td>64000</td>\n      <td>128</td>\n      <td>32</td>\n      <td>64</td>\n      <td>274</td>\n      <td>1238</td>\n    </tr>\n    <tr>\n      <th>199</th>\n      <td>0b001000000000000000000000000000</td>\n      <td>0b00000000000000000000000000000000000000000000...</td>\n      <td>30</td>\n      <td>8000</td>\n      <td>64000</td>\n      <td>128</td>\n      <td>12</td>\n      <td>176</td>\n      <td>274</td>\n      <td>978</td>\n    </tr>\n  </tbody>\n</table>\n<p>209 rows × 10 columns</p>\n</div>"
     },
     "execution_count": 10,
     "metadata": {},
     "output_type": "execute_result"
    }
   ],
   "source": [
    "# For demonstration purposes: Discretize PRP column into 10 bins based on frequency\n",
    "print(\"\\nFor demonstration purposes: Discretize PRP column into 10 bins based on frequency\")\n",
    "discretize(data, \"PRP\", xargs={\"dMethod\": \"frequency\", \"bins\": 10}, inplace=True)\n",
    "# Show updated data frame\n",
    "print(\"Data Frame after discretizing the PRP field into 10 bins of equal frequency (Showing PRP column.)\")\n",
    "data"
   ],
   "metadata": {
    "collapsed": false,
    "pycharm": {
     "name": "#%%\n"
    }
   }
  },
  {
   "cell_type": "code",
   "execution_count": 11,
   "outputs": [
    {
     "name": "stdout",
     "output_type": "stream",
     "text": [
      "\n",
      "Partition data into 5 folds with train, test, and (Optional) validation sets: Proportions are (0.75, 0.25))\n",
      "Fold 0, testSize=31, trainSize=11\n",
      "Fold 1, testSize=31, trainSize=11\n",
      "Fold 2, testSize=31, trainSize=11\n",
      "Fold 3, testSize=31, trainSize=11\n",
      "Fold 4, testSize=30, trainSize=11\n"
     ]
    }
   ],
   "source": [
    "# Partition data into folds\n",
    "k = 5\n",
    "proportions = (0.75, 0.25) # Train / Test proportions\n",
    "print(f\"\\nPartition data into {k} folds with train, test, and (Optional) validation sets: Proportions are {str(proportions)})\")\n",
    "folds = partition(data, k, classificationColumnId=None, includeValidationSet=False, proportions=proportions)\n",
    "for i in range(0, len(folds)):\n",
    "    print(f\"Fold {i}, testSize={len(folds[i][0])}, trainSize={len(folds[i][1])}\")\n"
   ],
   "metadata": {
    "collapsed": false,
    "pycharm": {
     "name": "#%%\n"
    }
   }
  },
  {
   "cell_type": "code",
   "execution_count": 12,
   "outputs": [
    {
     "name": "stdout",
     "output_type": "stream",
     "text": [
      "\n",
      "Learning Performance Evaluation\n"
     ]
    },
    {
     "data": {
      "text/plain": "Fold       MSE     MAE     R2  Pearson\n0      6763.91   75.41  -0.43     -0.0\n1      2331.04   46.50 -12.80     -0.0\n2     22458.52  129.57  -0.02      0.0\n3      7211.24   77.58  -1.91     -0.0\n4      9257.92   70.55  -0.01      0.0",
      "text/html": "<div>\n<style scoped>\n    .dataframe tbody tr th:only-of-type {\n        vertical-align: middle;\n    }\n\n    .dataframe tbody tr th {\n        vertical-align: top;\n    }\n\n    .dataframe thead th {\n        text-align: right;\n    }\n</style>\n<table border=\"1\" class=\"dataframe\">\n  <thead>\n    <tr style=\"text-align: right;\">\n      <th>Fold</th>\n      <th>MSE</th>\n      <th>MAE</th>\n      <th>R2</th>\n      <th>Pearson</th>\n    </tr>\n  </thead>\n  <tbody>\n    <tr>\n      <th>0</th>\n      <td>6763.91</td>\n      <td>75.41</td>\n      <td>-0.43</td>\n      <td>-0.0</td>\n    </tr>\n    <tr>\n      <th>1</th>\n      <td>2331.04</td>\n      <td>46.50</td>\n      <td>-12.80</td>\n      <td>-0.0</td>\n    </tr>\n    <tr>\n      <th>2</th>\n      <td>22458.52</td>\n      <td>129.57</td>\n      <td>-0.02</td>\n      <td>0.0</td>\n    </tr>\n    <tr>\n      <th>3</th>\n      <td>7211.24</td>\n      <td>77.58</td>\n      <td>-1.91</td>\n      <td>-0.0</td>\n    </tr>\n    <tr>\n      <th>4</th>\n      <td>9257.92</td>\n      <td>70.55</td>\n      <td>-0.01</td>\n      <td>0.0</td>\n    </tr>\n  </tbody>\n</table>\n</div>"
     },
     "execution_count": 12,
     "metadata": {},
     "output_type": "execute_result"
    }
   ],
   "source": [
    "# Test our learner\n",
    "className = \"ERP\"\n",
    "foldEvaluations = []\n",
    "for fold in folds:\n",
    "    trainingSet = fold[0]\n",
    "    testingSet = fold[1]\n",
    "    prediction = naivePredictor(trainingSet, testingSet, classificationColId=\"ERP\", method=\"regression\")\n",
    "    predicted_scores = [prediction for x in range(0,len(testingSet))]\n",
    "    mse = evaluateError(predicted_scores, testingSet[className], method=\"MSE\")\n",
    "    mae = evaluateError(predicted_scores, testingSet[className], method=\"MAE\")\n",
    "    r2 = evaluateError(predicted_scores, testingSet[className], method=\"R2\")\n",
    "    pearson = evaluateError(predicted_scores, testingSet[className], method=\"pearson\")\n",
    "    foldEvaluation = {\n",
    "        'MSE' : mse,\n",
    "        'MAE' : mae,\n",
    "        'R2': r2,\n",
    "        'Pearson': pearson\n",
    "    }\n",
    "    foldEvaluations.append(foldEvaluation)\n",
    "\n",
    "print(\"\\nLearning Performance Evaluation\")\n",
    "evalDf = pandas.DataFrame(foldEvaluations)\n",
    "# evalDf.index.name = 'Fold'\n",
    "evalDf = evalDf.rename_axis(index=None, columns='Fold')\n",
    "evalDf.round(2)\n"
   ],
   "metadata": {
    "collapsed": false,
    "pycharm": {
     "name": "#%%\n"
    }
   }
  }
 ],
 "metadata": {
  "kernelspec": {
   "display_name": "Python 3",
   "language": "python",
   "name": "python3"
  },
  "language_info": {
   "codemirror_mode": {
    "name": "ipython",
    "version": 2
   },
   "file_extension": ".py",
   "mimetype": "text/x-python",
   "name": "python",
   "nbconvert_exporter": "python",
   "pygments_lexer": "ipython2",
   "version": "2.7.6"
  }
 },
 "nbformat": 4,
 "nbformat_minor": 0
}