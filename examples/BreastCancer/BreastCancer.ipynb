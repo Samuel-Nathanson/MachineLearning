{
 "cells": [
  {
   "cell_type": "code",
   "execution_count": 25,
   "metadata": {
    "collapsed": true
   },
   "outputs": [],
   "source": [
    "%reload_ext autoreload\n",
    "%autoreload 2\n",
    "# Import Libraries\n",
    "from lib.PreprocessingTK import *\n",
    "import pandas\n",
    "import numpy as np\n"
   ]
  },
  {
   "cell_type": "code",
   "execution_count": 26,
   "outputs": [
    {
     "name": "stdout",
     "output_type": "stream",
     "text": [
      "Original Data Frame\n"
     ]
    },
    {
     "data": {
      "text/plain": "          id  clumpThickness  cellSizeUniformity  cellShapeUniformity  \\\n0    1000025               5                   1                    1   \n1    1002945               5                   4                    4   \n2    1015425               3                   1                    1   \n3    1016277               6                   8                    8   \n4    1017023               4                   1                    1   \n..       ...             ...                 ...                  ...   \n694   776715               3                   1                    1   \n695   841769               2                   1                    1   \n696   888820               5                  10                   10   \n697   897471               4                   8                    6   \n698   897471               4                   8                    8   \n\n     maginalAdhesion  epithelialCellSize bareNuclei  blandChromatin  \\\n0                  1                   2          1               3   \n1                  5                   7         10               3   \n2                  1                   2          2               3   \n3                  1                   3          4               3   \n4                  3                   2          1               3   \n..               ...                 ...        ...             ...   \n694                1                   3          2               1   \n695                1                   2          1               1   \n696                3                   7          3               8   \n697                4                   3          4              10   \n698                5                   4          5              10   \n\n     normalNucleoli  mitoses  class  \n0                 1        1      2  \n1                 2        1      2  \n2                 1        1      2  \n3                 7        1      2  \n4                 1        1      2  \n..              ...      ...    ...  \n694               1        1      2  \n695               1        1      2  \n696              10        2      4  \n697               6        1      4  \n698               4        1      4  \n\n[699 rows x 11 columns]",
      "text/html": "<div>\n<style scoped>\n    .dataframe tbody tr th:only-of-type {\n        vertical-align: middle;\n    }\n\n    .dataframe tbody tr th {\n        vertical-align: top;\n    }\n\n    .dataframe thead th {\n        text-align: right;\n    }\n</style>\n<table border=\"1\" class=\"dataframe\">\n  <thead>\n    <tr style=\"text-align: right;\">\n      <th></th>\n      <th>id</th>\n      <th>clumpThickness</th>\n      <th>cellSizeUniformity</th>\n      <th>cellShapeUniformity</th>\n      <th>maginalAdhesion</th>\n      <th>epithelialCellSize</th>\n      <th>bareNuclei</th>\n      <th>blandChromatin</th>\n      <th>normalNucleoli</th>\n      <th>mitoses</th>\n      <th>class</th>\n    </tr>\n  </thead>\n  <tbody>\n    <tr>\n      <th>0</th>\n      <td>1000025</td>\n      <td>5</td>\n      <td>1</td>\n      <td>1</td>\n      <td>1</td>\n      <td>2</td>\n      <td>1</td>\n      <td>3</td>\n      <td>1</td>\n      <td>1</td>\n      <td>2</td>\n    </tr>\n    <tr>\n      <th>1</th>\n      <td>1002945</td>\n      <td>5</td>\n      <td>4</td>\n      <td>4</td>\n      <td>5</td>\n      <td>7</td>\n      <td>10</td>\n      <td>3</td>\n      <td>2</td>\n      <td>1</td>\n      <td>2</td>\n    </tr>\n    <tr>\n      <th>2</th>\n      <td>1015425</td>\n      <td>3</td>\n      <td>1</td>\n      <td>1</td>\n      <td>1</td>\n      <td>2</td>\n      <td>2</td>\n      <td>3</td>\n      <td>1</td>\n      <td>1</td>\n      <td>2</td>\n    </tr>\n    <tr>\n      <th>3</th>\n      <td>1016277</td>\n      <td>6</td>\n      <td>8</td>\n      <td>8</td>\n      <td>1</td>\n      <td>3</td>\n      <td>4</td>\n      <td>3</td>\n      <td>7</td>\n      <td>1</td>\n      <td>2</td>\n    </tr>\n    <tr>\n      <th>4</th>\n      <td>1017023</td>\n      <td>4</td>\n      <td>1</td>\n      <td>1</td>\n      <td>3</td>\n      <td>2</td>\n      <td>1</td>\n      <td>3</td>\n      <td>1</td>\n      <td>1</td>\n      <td>2</td>\n    </tr>\n    <tr>\n      <th>...</th>\n      <td>...</td>\n      <td>...</td>\n      <td>...</td>\n      <td>...</td>\n      <td>...</td>\n      <td>...</td>\n      <td>...</td>\n      <td>...</td>\n      <td>...</td>\n      <td>...</td>\n      <td>...</td>\n    </tr>\n    <tr>\n      <th>694</th>\n      <td>776715</td>\n      <td>3</td>\n      <td>1</td>\n      <td>1</td>\n      <td>1</td>\n      <td>3</td>\n      <td>2</td>\n      <td>1</td>\n      <td>1</td>\n      <td>1</td>\n      <td>2</td>\n    </tr>\n    <tr>\n      <th>695</th>\n      <td>841769</td>\n      <td>2</td>\n      <td>1</td>\n      <td>1</td>\n      <td>1</td>\n      <td>2</td>\n      <td>1</td>\n      <td>1</td>\n      <td>1</td>\n      <td>1</td>\n      <td>2</td>\n    </tr>\n    <tr>\n      <th>696</th>\n      <td>888820</td>\n      <td>5</td>\n      <td>10</td>\n      <td>10</td>\n      <td>3</td>\n      <td>7</td>\n      <td>3</td>\n      <td>8</td>\n      <td>10</td>\n      <td>2</td>\n      <td>4</td>\n    </tr>\n    <tr>\n      <th>697</th>\n      <td>897471</td>\n      <td>4</td>\n      <td>8</td>\n      <td>6</td>\n      <td>4</td>\n      <td>3</td>\n      <td>4</td>\n      <td>10</td>\n      <td>6</td>\n      <td>1</td>\n      <td>4</td>\n    </tr>\n    <tr>\n      <th>698</th>\n      <td>897471</td>\n      <td>4</td>\n      <td>8</td>\n      <td>8</td>\n      <td>5</td>\n      <td>4</td>\n      <td>5</td>\n      <td>10</td>\n      <td>4</td>\n      <td>1</td>\n      <td>4</td>\n    </tr>\n  </tbody>\n</table>\n<p>699 rows × 11 columns</p>\n</div>"
     },
     "execution_count": 26,
     "metadata": {},
     "output_type": "execute_result"
    }
   ],
   "source": [
    "# Read Data with Features\n",
    "'''\n",
    "   #  Attribute                     Domain\n",
    "   -- -----------------------------------------\n",
    "   1. Sample code number            id number\n",
    "   2. Clump Thickness               1 - 10\n",
    "   3. Uniformity of Cell Size       1 - 10\n",
    "   4. Uniformity of Cell Shape      1 - 10\n",
    "   5. Marginal Adhesion             1 - 10\n",
    "   6. Single Epithelial Cell Size   1 - 10\n",
    "   7. Bare Nuclei                   1 - 10\n",
    "   8. Bland Chromatin               1 - 10\n",
    "   9. Normal Nucleoli               1 - 10\n",
    "  10. Mitoses                       1 - 10\n",
    "  11. Class:                        (2 for benign, 4 for malignant)\n",
    "  '''\n",
    "featureNames=[\"id\", \"clumpThickness\", \"cellSizeUniformity\", \"cellShapeUniformity\",\n",
    "              \"maginalAdhesion\", \"epithelialCellSize\", \"bareNuclei\", \"blandChromatin\",\n",
    "              \"normalNucleoli\", \"mitoses\", \"class\"]\n",
    "\n",
    "data = pandas.read_csv(\"../../data/BreastCancer/breast-cancer-wisconsin.data\",\n",
    "                       names=featureNames)\n",
    "# Show original data frame\n",
    "print(\"Original Data Frame\")\n",
    "data"
   ],
   "metadata": {
    "collapsed": false,
    "pycharm": {
     "name": "#%%\n"
    }
   }
  },
  {
   "cell_type": "code",
   "execution_count": 27,
   "outputs": [],
   "source": [
    "# Delete ID Column\n",
    "data.drop(\"id\", axis=1, inplace=True)\n",
    "columnNames = list(data.columns)\n"
   ],
   "metadata": {
    "collapsed": false,
    "pycharm": {
     "name": "#%%\n"
    }
   }
  },
  {
   "cell_type": "code",
   "execution_count": 28,
   "outputs": [
    {
     "name": "stdout",
     "output_type": "stream",
     "text": [
      "Check for fields with missing data ['?', NaN]\n",
      "    bareNuclei\n",
      "23           ?\n",
      "40           ?\n",
      "139          ?\n",
      "145          ?\n",
      "158          ?\n",
      "164          ?\n",
      "235          ?\n",
      "249          ?\n",
      "275          ?\n",
      "292          ?\n",
      "294          ?\n",
      "297          ?\n",
      "315          ?\n",
      "321          ?\n",
      "411          ?\n",
      "617          ?\n",
      "\n",
      "Imputed data using mean imputation method\n",
      "Check again for fields with missing data ['?', NaN]\n",
      "Imputation succeeded! Filled missing data with mean.\n"
     ]
    }
   ],
   "source": [
    "# Demonstration: Check for fields with missing data\n",
    "print(\"Check for fields with missing data ['?', NaN]\")\n",
    "for name in columnNames:\n",
    "       missingData = data.loc[data[name] == '?']\n",
    "       if(not missingData.empty):\n",
    "              print(missingData[[name]])\n",
    "\n",
    "# Impute Missing Data\n",
    "missingDataColumns = [\"maginalAdhesion\", \"epithelialCellSize\", \"bareNuclei\"]\n",
    "for column in missingDataColumns:\n",
    "       imputeData(data, column, nullIndicators=['?'], imputation={\"method\":\"mean\"}, inplace=True)\n",
    "print(\"\\nImputed data using mean imputation method\")\n",
    "\n",
    "# Demonstration: Check for fields with missing data\n",
    "print(\"Check again for fields with missing data ['?', NaN]\")\n",
    "haveMissingData = False\n",
    "for name in columnNames:\n",
    "       missingData = data.loc[data[name] == '?']\n",
    "       if(not missingData.empty):\n",
    "              haveMissingData = True\n",
    "              print(missingData[[name]])\n",
    "if(haveMissingData):\n",
    "    print(\"Imputation failed! Still have missing data.\")\n",
    "    exit(1)\n",
    "else:\n",
    "    print(\"Imputation succeeded! Filled missing data with mean.\")"
   ],
   "metadata": {
    "collapsed": false,
    "pycharm": {
     "name": "#%%\n"
    }
   }
  },
  {
   "cell_type": "code",
   "execution_count": 29,
   "outputs": [
    {
     "name": "stdout",
     "output_type": "stream",
     "text": [
      "\n",
      "Partition data into 5 folds with train, test, and (Optional) validation sets\n",
      "Stratifying by values in column: class\n",
      "Classification Task\n",
      "Fold 0, size=139\n",
      "Fold 1, size=139\n",
      "Fold 2, size=139\n",
      "Fold 3, size=139\n",
      "Fold 4, size=143\n"
     ]
    }
   ],
   "source": [
    "# Partition data into folds\n",
    "k = 5\n",
    "classColName = \"class\"\n",
    "print(f\"\\nPartition data into {k} folds with train, test, and (Optional) validation sets\")\n",
    "print(f\"Stratifying by values in column: {classColName}\")\n",
    "folds = partition(data, k, classificationColumnId=classColName)\n",
    "for i in range(0, len(folds)):\n",
    "    print(f\"Fold {i}, size={len(folds[i])}\")"
   ],
   "metadata": {
    "collapsed": false,
    "pycharm": {
     "name": "#%%\n"
    }
   }
  },
  {
   "cell_type": "code",
   "execution_count": 30,
   "outputs": [
    {
     "name": "stdout",
     "output_type": "stream",
     "text": [
      "\n",
      "Learning Performance Evaluation\n"
     ]
    },
    {
     "data": {
      "text/plain": "Fold  accuracy-benign  accuracy-malignant\n0               0.655               0.655\n1               0.655               0.655\n2               0.655               0.655\n3               0.655               0.655\n4               0.657               0.657",
      "text/html": "<div>\n<style scoped>\n    .dataframe tbody tr th:only-of-type {\n        vertical-align: middle;\n    }\n\n    .dataframe tbody tr th {\n        vertical-align: top;\n    }\n\n    .dataframe thead th {\n        text-align: right;\n    }\n</style>\n<table border=\"1\" class=\"dataframe\">\n  <thead>\n    <tr style=\"text-align: right;\">\n      <th>Fold</th>\n      <th>accuracy-benign</th>\n      <th>accuracy-malignant</th>\n    </tr>\n  </thead>\n  <tbody>\n    <tr>\n      <th>0</th>\n      <td>0.655</td>\n      <td>0.655</td>\n    </tr>\n    <tr>\n      <th>1</th>\n      <td>0.655</td>\n      <td>0.655</td>\n    </tr>\n    <tr>\n      <th>2</th>\n      <td>0.655</td>\n      <td>0.655</td>\n    </tr>\n    <tr>\n      <th>3</th>\n      <td>0.655</td>\n      <td>0.655</td>\n    </tr>\n    <tr>\n      <th>4</th>\n      <td>0.657</td>\n      <td>0.657</td>\n    </tr>\n  </tbody>\n</table>\n</div>"
     },
     "execution_count": 30,
     "metadata": {},
     "output_type": "execute_result"
    }
   ],
   "source": [
    "# Test our learner\n",
    "# Comment: Could be improved to O(1) by assigning values directly, but this is more general\n",
    "# e.g. classLabels = [y0, y1, y2, e.t.c.]\n",
    "classLabels = np.unique(data[classColName])\n",
    "className = \"class\"\n",
    "foldEvaluations = []\n",
    "for i in range(0,k):\n",
    "    testingSet = folds.pop(i)\n",
    "    trainingSet = pandas.concat(folds, ignore_index=True)\n",
    "    folds.insert(i, testingSet)\n",
    "    foldEvaluation = {}\n",
    "    for classLabel in classLabels:\n",
    "        prediction = naivePredictor(trainingSet, testingSet, classificationColId=className, method=\"classification\")\n",
    "        predicted_scores = [prediction for x in range(0,len(testingSet))] # Using first mode only\n",
    "\n",
    "        accuracy = evaluateError(predicted_scores, testingSet[className], method=\"accuracy\", classLabel=classLabel)\n",
    "    # precision = evaluateError(predicted_scores, testingSet[\"class\"], method=\"precision\", classLabel=classLabel)\n",
    "    # recall = evaluateError(predicted_scores, testingSet[\"class\"], method=\"recall\", classLabel=classLabel)\n",
    "    # f1 = evaluateError(predicted_scores, testingSet[\"class\"], method=\"f1\", classLabel=classLabel)\n",
    "\n",
    "        # Translate Class Label\n",
    "        foldEvaluation[f'accuracy-{\"benign\" if classLabel == 2 else \"malignant\"}'] = accuracy\n",
    "    foldEvaluations.append(foldEvaluation)\n",
    "\n",
    "print(\"\\nLearning Performance Evaluation\")\n",
    "evalDf = pandas.DataFrame(foldEvaluations)\n",
    "# evalDf.index.name = 'Fold'\n",
    "evalDf = evalDf.rename_axis(index=None, columns='Fold')\n",
    "evalDf.round(3)"
   ],
   "metadata": {
    "collapsed": false,
    "pycharm": {
     "name": "#%%\n"
    }
   }
  },
  {
   "cell_type": "code",
   "execution_count": null,
   "outputs": [],
   "source": [
    "import numpy as np\n",
    "\n",
    "for classLabel in classLabels:\n",
    "    entry = \"accuracy-\" + classLabel\n",
    "    avgAcc = np.mean(evalDf[entry])\n",
    "    print(f\"Average Mean Squared Error {classLabel}: {avgAcc}\")"
   ],
   "metadata": {
    "collapsed": false,
    "pycharm": {
     "name": "#%%\n"
    }
   }
  }
 ],
 "metadata": {
  "kernelspec": {
   "display_name": "Python 3",
   "language": "python",
   "name": "python3"
  },
  "language_info": {
   "codemirror_mode": {
    "name": "ipython",
    "version": 2
   },
   "file_extension": ".py",
   "mimetype": "text/x-python",
   "name": "python",
   "nbconvert_exporter": "python",
   "pygments_lexer": "ipython2",
   "version": "2.7.6"
  }
 },
 "nbformat": 4,
 "nbformat_minor": 0
}