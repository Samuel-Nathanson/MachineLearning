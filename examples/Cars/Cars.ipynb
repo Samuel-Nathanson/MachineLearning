{
 "cells": [
  {
   "cell_type": "code",
   "execution_count": 1,
   "metadata": {
    "collapsed": true
   },
   "outputs": [],
   "source": [
    "%reload_ext autoreload\n",
    "%autoreload 2\n",
    "# Import Libraries\n",
    "from lib.PreprocessingTK import *\n",
    "import pandas\n",
    "import numpy as np"
   ]
  },
  {
   "cell_type": "code",
   "execution_count": 2,
   "outputs": [
    {
     "name": "stdout",
     "output_type": "stream",
     "text": [
      "Original Data Frame\n"
     ]
    },
    {
     "data": {
      "text/plain": "     Buying  Maint  Doors Persons Lug Boot Safety Evaluation\n0     vhigh  vhigh      2       2    small    low      unacc\n1     vhigh  vhigh      2       2    small    med      unacc\n2     vhigh  vhigh      2       2    small   high      unacc\n3     vhigh  vhigh      2       2      med    low      unacc\n4     vhigh  vhigh      2       2      med    med      unacc\n...     ...    ...    ...     ...      ...    ...        ...\n1723    low    low  5more    more      med    med       good\n1724    low    low  5more    more      med   high      vgood\n1725    low    low  5more    more      big    low      unacc\n1726    low    low  5more    more      big    med       good\n1727    low    low  5more    more      big   high      vgood\n\n[1728 rows x 7 columns]",
      "text/html": "<div>\n<style scoped>\n    .dataframe tbody tr th:only-of-type {\n        vertical-align: middle;\n    }\n\n    .dataframe tbody tr th {\n        vertical-align: top;\n    }\n\n    .dataframe thead th {\n        text-align: right;\n    }\n</style>\n<table border=\"1\" class=\"dataframe\">\n  <thead>\n    <tr style=\"text-align: right;\">\n      <th></th>\n      <th>Buying</th>\n      <th>Maint</th>\n      <th>Doors</th>\n      <th>Persons</th>\n      <th>Lug Boot</th>\n      <th>Safety</th>\n      <th>Evaluation</th>\n    </tr>\n  </thead>\n  <tbody>\n    <tr>\n      <th>0</th>\n      <td>vhigh</td>\n      <td>vhigh</td>\n      <td>2</td>\n      <td>2</td>\n      <td>small</td>\n      <td>low</td>\n      <td>unacc</td>\n    </tr>\n    <tr>\n      <th>1</th>\n      <td>vhigh</td>\n      <td>vhigh</td>\n      <td>2</td>\n      <td>2</td>\n      <td>small</td>\n      <td>med</td>\n      <td>unacc</td>\n    </tr>\n    <tr>\n      <th>2</th>\n      <td>vhigh</td>\n      <td>vhigh</td>\n      <td>2</td>\n      <td>2</td>\n      <td>small</td>\n      <td>high</td>\n      <td>unacc</td>\n    </tr>\n    <tr>\n      <th>3</th>\n      <td>vhigh</td>\n      <td>vhigh</td>\n      <td>2</td>\n      <td>2</td>\n      <td>med</td>\n      <td>low</td>\n      <td>unacc</td>\n    </tr>\n    <tr>\n      <th>4</th>\n      <td>vhigh</td>\n      <td>vhigh</td>\n      <td>2</td>\n      <td>2</td>\n      <td>med</td>\n      <td>med</td>\n      <td>unacc</td>\n    </tr>\n    <tr>\n      <th>...</th>\n      <td>...</td>\n      <td>...</td>\n      <td>...</td>\n      <td>...</td>\n      <td>...</td>\n      <td>...</td>\n      <td>...</td>\n    </tr>\n    <tr>\n      <th>1723</th>\n      <td>low</td>\n      <td>low</td>\n      <td>5more</td>\n      <td>more</td>\n      <td>med</td>\n      <td>med</td>\n      <td>good</td>\n    </tr>\n    <tr>\n      <th>1724</th>\n      <td>low</td>\n      <td>low</td>\n      <td>5more</td>\n      <td>more</td>\n      <td>med</td>\n      <td>high</td>\n      <td>vgood</td>\n    </tr>\n    <tr>\n      <th>1725</th>\n      <td>low</td>\n      <td>low</td>\n      <td>5more</td>\n      <td>more</td>\n      <td>big</td>\n      <td>low</td>\n      <td>unacc</td>\n    </tr>\n    <tr>\n      <th>1726</th>\n      <td>low</td>\n      <td>low</td>\n      <td>5more</td>\n      <td>more</td>\n      <td>big</td>\n      <td>med</td>\n      <td>good</td>\n    </tr>\n    <tr>\n      <th>1727</th>\n      <td>low</td>\n      <td>low</td>\n      <td>5more</td>\n      <td>more</td>\n      <td>big</td>\n      <td>high</td>\n      <td>vgood</td>\n    </tr>\n  </tbody>\n</table>\n<p>1728 rows × 7 columns</p>\n</div>"
     },
     "execution_count": 2,
     "metadata": {},
     "output_type": "execute_result"
    }
   ],
   "source": [
    "# Read Data with Features\n",
    "'''\n",
    "   Buying       v-high, high, med, low\n",
    "   Maint        v-high, high, med, low\n",
    "   Doors        2, 3, 4, 5-more\n",
    "   Persons      2, 4, more\n",
    "   Lug Boot     small, med, big\n",
    "   Safety       low, med, high\n",
    "   Evaluation   unacc, acc, good, vgood\n",
    "'''\n",
    "featureNames=[\"Buying\", \"Maint\", \"Doors\", \"Persons\", \"Lug Boot\", \"Safety\", \"Evaluation\"]\n",
    "data = pandas.read_csv(\"../../data/Cars/car.data\",\n",
    "                  names=featureNames)\n",
    "# Show original data frame\n",
    "print(\"Original Data Frame\")\n",
    "data"
   ],
   "metadata": {
    "collapsed": false,
    "pycharm": {
     "name": "#%%\n"
    }
   }
  },
  {
   "cell_type": "code",
   "execution_count": 3,
   "outputs": [
    {
     "ename": "NameError",
     "evalue": "name 'convertToOrdinal' is not defined",
     "output_type": "error",
     "traceback": [
      "\u001B[1;31m---------------------------------------------------------------------------\u001B[0m",
      "\u001B[1;31mNameError\u001B[0m                                 Traceback (most recent call last)",
      "\u001B[1;32m~\\AppData\\Local\\Temp/ipykernel_8480/2165347843.py\u001B[0m in \u001B[0;36m<module>\u001B[1;34m\u001B[0m\n\u001B[0;32m     31\u001B[0m }\n\u001B[0;32m     32\u001B[0m \u001B[1;32mfor\u001B[0m \u001B[0mfeatureName\u001B[0m \u001B[1;32min\u001B[0m \u001B[0mordinalValueDict\u001B[0m\u001B[1;33m.\u001B[0m\u001B[0mkeys\u001B[0m\u001B[1;33m(\u001B[0m\u001B[1;33m)\u001B[0m\u001B[1;33m:\u001B[0m\u001B[1;33m\u001B[0m\u001B[1;33m\u001B[0m\u001B[0m\n\u001B[1;32m---> 33\u001B[1;33m     \u001B[0mconvertToOrdinal\u001B[0m\u001B[1;33m(\u001B[0m\u001B[0mdata\u001B[0m\u001B[1;33m,\u001B[0m \u001B[0mfeatureName\u001B[0m\u001B[1;33m,\u001B[0m \u001B[0mordinalValueDict\u001B[0m\u001B[1;33m[\u001B[0m\u001B[0mfeatureName\u001B[0m\u001B[1;33m]\u001B[0m\u001B[1;33m,\u001B[0m \u001B[0minplace\u001B[0m\u001B[1;33m=\u001B[0m\u001B[1;32mTrue\u001B[0m\u001B[1;33m)\u001B[0m\u001B[1;33m\u001B[0m\u001B[1;33m\u001B[0m\u001B[0m\n\u001B[0m\u001B[0;32m     34\u001B[0m \u001B[1;31m# Show updated data frame\u001B[0m\u001B[1;33m\u001B[0m\u001B[1;33m\u001B[0m\u001B[0m\n\u001B[0;32m     35\u001B[0m \u001B[0mprint\u001B[0m\u001B[1;33m(\u001B[0m\u001B[1;34m\"\\nData Frame after converting ordinal values to integer\"\u001B[0m\u001B[1;33m)\u001B[0m\u001B[1;33m\u001B[0m\u001B[1;33m\u001B[0m\u001B[0m\n",
      "\u001B[1;31mNameError\u001B[0m: name 'convertToOrdinal' is not defined"
     ]
    }
   ],
   "source": [
    "# Convert ordinal data to integer\n",
    "ordinalValueDict = {\n",
    "    \"Buying\": {\n",
    "        \"v-high\": 1,\n",
    "        \"high\": 2,\n",
    "        \"med\": 3,\n",
    "        \"low\": 4\n",
    "    },\n",
    "    \"Maint\": {\n",
    "        \"v-high\": 1,\n",
    "        \"high\": 2,\n",
    "        \"med\": 3,\n",
    "        \"low\": 4\n",
    "    },\n",
    "    \"Doors\": {\n",
    "        \"5-more\": 5\n",
    "    },\n",
    "    \"Persons\": {\n",
    "        \"more\" : 4\n",
    "    },\n",
    "    \"Lug Boot\": {\n",
    "        \"small\": 1,\n",
    "        \"med\": 2,\n",
    "        \"big\": 3\n",
    "    },\n",
    "    \"Safety\": {\n",
    "        \"low\": 1,\n",
    "        \"med\": 2,\n",
    "        \"high\": 3\n",
    "    }\n",
    "}\n",
    "for featureName in ordinalValueDict.keys():\n",
    "    convertToOrdinal(data, featureName, ordinalValueDict[featureName], inplace=True)\n",
    "# Show updated data frame\n",
    "print(\"\\nData Frame after converting ordinal values to integer\")\n",
    "data"
   ],
   "metadata": {
    "collapsed": false,
    "pycharm": {
     "name": "#%%\n"
    }
   }
  },
  {
   "cell_type": "code",
   "execution_count": null,
   "outputs": [],
   "source": [
    "# Partition data into folds\n",
    "# Stratify by Y class label\n",
    "k = 5\n",
    "proportions = (0.75, 0.25) # Train / Test proportions\n",
    "classColName = \"Evaluation\"\n",
    "print(f\"\\nPartition data into {k} folds with train, test, and (Optional) validation sets\")\n",
    "print(f\"Stratifying by values in column: {classColName}\")\n",
    "folds = partition(data, k, classificationColumnId=classColName)\n",
    "for i in range(0, len(folds)):\n",
    "    print(f\"Fold {i}, size={len(folds[i])}\")\n",
    "\n"
   ],
   "metadata": {
    "collapsed": false,
    "pycharm": {
     "name": "#%%\n"
    }
   }
  },
  {
   "cell_type": "code",
   "execution_count": null,
   "outputs": [],
   "source": [
    "# Comment: Could be improved to O(1) by assigning values directly, but this is more general\n",
    "# e.g. classLabels = [y0, y1, y2, e.t.c.]\n",
    "# Test our learner\n",
    "classLabels = np.unique(data[classColName])\n",
    "className = \"Evaluation\"\n",
    "foldEvaluations = []\n",
    "for i in range(0,k):\n",
    "    testingSet = folds.pop(i)\n",
    "    trainingSet = pandas.concat(folds, ignore_index=True)\n",
    "    folds.insert(i, testingSet)\n",
    "    foldEvaluation = {}\n",
    "    for classLabel in classLabels:\n",
    "        prediction = naivePredictor(trainingSet, classificationColId=className, method=\"classification\")\n",
    "        predicted_scores = [prediction for x in range(0,len(testingSet))] # Using first mode only\n",
    "\n",
    "        accuracy = evaluateError(predicted_scores, testingSet[className], method=\"accuracy\", classLabel=classLabel)\n",
    "    # precision = evaluateError(predicted_scores, testingSet[\"class\"], method=\"precision\", classLabel=classLabel)\n",
    "    # recall = evaluateError(predicted_scores, testingSet[\"class\"], method=\"recall\", classLabel=classLabel)\n",
    "    # f1 = evaluateError(predicted_scores, testingSet[\"class\"], method=\"f1\", classLabel=classLabel)\n",
    "\n",
    "        foldEvaluation[f'accuracy-{classLabel}'] = accuracy\n",
    "    foldEvaluations.append(foldEvaluation)\n",
    "\n",
    "print(\"\\nLearning Performance Evaluation\")\n",
    "evalDf = pandas.DataFrame(foldEvaluations)\n",
    "# evalDf.index.name = 'Fold'\n",
    "evalDf = evalDf.rename_axis(index=None, columns='Fold')\n",
    "evalDf.round(3)"
   ],
   "metadata": {
    "collapsed": false,
    "pycharm": {
     "name": "#%%\n"
    }
   }
  },
  {
   "cell_type": "code",
   "execution_count": null,
   "outputs": [],
   "source": [
    "import numpy as np\n",
    "\n",
    "for classLabel in classLabels:\n",
    "    entry = \"accuracy-\" + classLabel\n",
    "    avgAcc = np.mean(evalDf[entry])\n",
    "    print(f\"Average Mean Squared Error {classLabel}: {avgAcc}\")"
   ],
   "metadata": {
    "collapsed": false,
    "pycharm": {
     "name": "#%%\n"
    }
   }
  }
 ],
 "metadata": {
  "kernelspec": {
   "display_name": "Python 3",
   "language": "python",
   "name": "python3"
  },
  "language_info": {
   "codemirror_mode": {
    "name": "ipython",
    "version": 2
   },
   "file_extension": ".py",
   "mimetype": "text/x-python",
   "name": "python",
   "nbconvert_exporter": "python",
   "pygments_lexer": "ipython2",
   "version": "2.7.6"
  }
 },
 "nbformat": 4,
 "nbformat_minor": 0
}