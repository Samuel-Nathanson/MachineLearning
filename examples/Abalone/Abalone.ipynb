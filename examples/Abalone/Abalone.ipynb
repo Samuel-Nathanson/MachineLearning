{
 "cells": [
  {
   "cell_type": "code",
   "execution_count": 4,
   "metadata": {
    "collapsed": true
   },
   "outputs": [],
   "source": [
    "%reload_ext autoreload\n",
    "%autoreload 2\n",
    "# Import Libraries\n",
    "from lib.PreprocessingTK import *\n",
    "import pandas\n",
    "import numpy as np"
   ]
  },
  {
   "cell_type": "code",
   "execution_count": 5,
   "outputs": [
    {
     "name": "stdout",
     "output_type": "stream",
     "text": [
      "\n",
      "Original Data Frame\n"
     ]
    },
    {
     "data": {
      "text/plain": "     Sex  Length  Diameter  Height  Whole weight  Shucked weight  \\\n0      M   0.455     0.365   0.095        0.5140          0.2245   \n1      M   0.350     0.265   0.090        0.2255          0.0995   \n2      F   0.530     0.420   0.135        0.6770          0.2565   \n3      M   0.440     0.365   0.125        0.5160          0.2155   \n4      I   0.330     0.255   0.080        0.2050          0.0895   \n...   ..     ...       ...     ...           ...             ...   \n4172   F   0.565     0.450   0.165        0.8870          0.3700   \n4173   M   0.590     0.440   0.135        0.9660          0.4390   \n4174   M   0.600     0.475   0.205        1.1760          0.5255   \n4175   F   0.625     0.485   0.150        1.0945          0.5310   \n4176   M   0.710     0.555   0.195        1.9485          0.9455   \n\n      Viscera weight  Shell weight  Rings  \n0             0.1010        0.1500     15  \n1             0.0485        0.0700      7  \n2             0.1415        0.2100      9  \n3             0.1140        0.1550     10  \n4             0.0395        0.0550      7  \n...              ...           ...    ...  \n4172          0.2390        0.2490     11  \n4173          0.2145        0.2605     10  \n4174          0.2875        0.3080      9  \n4175          0.2610        0.2960     10  \n4176          0.3765        0.4950     12  \n\n[4177 rows x 9 columns]",
      "text/html": "<div>\n<style scoped>\n    .dataframe tbody tr th:only-of-type {\n        vertical-align: middle;\n    }\n\n    .dataframe tbody tr th {\n        vertical-align: top;\n    }\n\n    .dataframe thead th {\n        text-align: right;\n    }\n</style>\n<table border=\"1\" class=\"dataframe\">\n  <thead>\n    <tr style=\"text-align: right;\">\n      <th></th>\n      <th>Sex</th>\n      <th>Length</th>\n      <th>Diameter</th>\n      <th>Height</th>\n      <th>Whole weight</th>\n      <th>Shucked weight</th>\n      <th>Viscera weight</th>\n      <th>Shell weight</th>\n      <th>Rings</th>\n    </tr>\n  </thead>\n  <tbody>\n    <tr>\n      <th>0</th>\n      <td>M</td>\n      <td>0.455</td>\n      <td>0.365</td>\n      <td>0.095</td>\n      <td>0.5140</td>\n      <td>0.2245</td>\n      <td>0.1010</td>\n      <td>0.1500</td>\n      <td>15</td>\n    </tr>\n    <tr>\n      <th>1</th>\n      <td>M</td>\n      <td>0.350</td>\n      <td>0.265</td>\n      <td>0.090</td>\n      <td>0.2255</td>\n      <td>0.0995</td>\n      <td>0.0485</td>\n      <td>0.0700</td>\n      <td>7</td>\n    </tr>\n    <tr>\n      <th>2</th>\n      <td>F</td>\n      <td>0.530</td>\n      <td>0.420</td>\n      <td>0.135</td>\n      <td>0.6770</td>\n      <td>0.2565</td>\n      <td>0.1415</td>\n      <td>0.2100</td>\n      <td>9</td>\n    </tr>\n    <tr>\n      <th>3</th>\n      <td>M</td>\n      <td>0.440</td>\n      <td>0.365</td>\n      <td>0.125</td>\n      <td>0.5160</td>\n      <td>0.2155</td>\n      <td>0.1140</td>\n      <td>0.1550</td>\n      <td>10</td>\n    </tr>\n    <tr>\n      <th>4</th>\n      <td>I</td>\n      <td>0.330</td>\n      <td>0.255</td>\n      <td>0.080</td>\n      <td>0.2050</td>\n      <td>0.0895</td>\n      <td>0.0395</td>\n      <td>0.0550</td>\n      <td>7</td>\n    </tr>\n    <tr>\n      <th>...</th>\n      <td>...</td>\n      <td>...</td>\n      <td>...</td>\n      <td>...</td>\n      <td>...</td>\n      <td>...</td>\n      <td>...</td>\n      <td>...</td>\n      <td>...</td>\n    </tr>\n    <tr>\n      <th>4172</th>\n      <td>F</td>\n      <td>0.565</td>\n      <td>0.450</td>\n      <td>0.165</td>\n      <td>0.8870</td>\n      <td>0.3700</td>\n      <td>0.2390</td>\n      <td>0.2490</td>\n      <td>11</td>\n    </tr>\n    <tr>\n      <th>4173</th>\n      <td>M</td>\n      <td>0.590</td>\n      <td>0.440</td>\n      <td>0.135</td>\n      <td>0.9660</td>\n      <td>0.4390</td>\n      <td>0.2145</td>\n      <td>0.2605</td>\n      <td>10</td>\n    </tr>\n    <tr>\n      <th>4174</th>\n      <td>M</td>\n      <td>0.600</td>\n      <td>0.475</td>\n      <td>0.205</td>\n      <td>1.1760</td>\n      <td>0.5255</td>\n      <td>0.2875</td>\n      <td>0.3080</td>\n      <td>9</td>\n    </tr>\n    <tr>\n      <th>4175</th>\n      <td>F</td>\n      <td>0.625</td>\n      <td>0.485</td>\n      <td>0.150</td>\n      <td>1.0945</td>\n      <td>0.5310</td>\n      <td>0.2610</td>\n      <td>0.2960</td>\n      <td>10</td>\n    </tr>\n    <tr>\n      <th>4176</th>\n      <td>M</td>\n      <td>0.710</td>\n      <td>0.555</td>\n      <td>0.195</td>\n      <td>1.9485</td>\n      <td>0.9455</td>\n      <td>0.3765</td>\n      <td>0.4950</td>\n      <td>12</td>\n    </tr>\n  </tbody>\n</table>\n<p>4177 rows × 9 columns</p>\n</div>"
     },
     "execution_count": 5,
     "metadata": {},
     "output_type": "execute_result"
    }
   ],
   "source": [
    "# Read Data with Features\n",
    "'''\n",
    "\tName\t\tData Type\tMeas.\tDescription\n",
    "\t----\t\t---------\t-----\t-----------\n",
    "\tSex\t\tnominal\t\t\tM, F, and I (infant)\n",
    "\tLength\t\tcontinuous\tmm\tLongest shell measurement\n",
    "\tDiameter\tcontinuous\tmm\tperpendicular to length\n",
    "\tHeight\t\tcontinuous\tmm\twith meat in shell\n",
    "\tWhole weight\tcontinuous\tgrams\twhole abalone\n",
    "\tShucked weight\tcontinuous\tgrams\tweight of meat\n",
    "\tViscera weight\tcontinuous\tgrams\tgut weight (after bleeding)\n",
    "\tShell weight\tcontinuous\tgrams\tafter being dried\n",
    "\tRings\t\tinteger\t\t\t+1.5 gives the age in years\n",
    "'''\n",
    "\n",
    "featureNames = [\n",
    "    \"Sex\",\n",
    "    \"Length\",\n",
    "    \"Diameter\",\n",
    "    \"Height\",\n",
    "    \"Whole weight\",\n",
    "    \"Shucked weight\",\n",
    "    \"Viscera weight\",\n",
    "    \"Shell weight\",\n",
    "    \"Rings\"\n",
    "]\n",
    "data = pandas.read_csv(\"../../data/Abalone/abalone.data\",\n",
    "                       names=featureNames)\n",
    "# Show original data frame\n",
    "print(\"\\nOriginal Data Frame\")\n",
    "data"
   ],
   "metadata": {
    "collapsed": false,
    "pycharm": {
     "name": "#%%\n"
    }
   }
  },
  {
   "cell_type": "code",
   "execution_count": 6,
   "outputs": [
    {
     "name": "stdout",
     "output_type": "stream",
     "text": [
      "\n",
      "Data Frame after converting nominal values to categorical using one-hot encoding\n"
     ]
    },
    {
     "data": {
      "text/plain": "        Sex  Length  Diameter  Height  Whole weight  Shucked weight  \\\n0     0b100   0.455     0.365   0.095        0.5140          0.2245   \n1     0b100   0.350     0.265   0.090        0.2255          0.0995   \n2     0b001   0.530     0.420   0.135        0.6770          0.2565   \n3     0b100   0.440     0.365   0.125        0.5160          0.2155   \n4     0b010   0.330     0.255   0.080        0.2050          0.0895   \n...     ...     ...       ...     ...           ...             ...   \n4172  0b001   0.565     0.450   0.165        0.8870          0.3700   \n4173  0b100   0.590     0.440   0.135        0.9660          0.4390   \n4174  0b100   0.600     0.475   0.205        1.1760          0.5255   \n4175  0b001   0.625     0.485   0.150        1.0945          0.5310   \n4176  0b100   0.710     0.555   0.195        1.9485          0.9455   \n\n      Viscera weight  Shell weight  Rings  \n0             0.1010        0.1500     15  \n1             0.0485        0.0700      7  \n2             0.1415        0.2100      9  \n3             0.1140        0.1550     10  \n4             0.0395        0.0550      7  \n...              ...           ...    ...  \n4172          0.2390        0.2490     11  \n4173          0.2145        0.2605     10  \n4174          0.2875        0.3080      9  \n4175          0.2610        0.2960     10  \n4176          0.3765        0.4950     12  \n\n[4177 rows x 9 columns]",
      "text/html": "<div>\n<style scoped>\n    .dataframe tbody tr th:only-of-type {\n        vertical-align: middle;\n    }\n\n    .dataframe tbody tr th {\n        vertical-align: top;\n    }\n\n    .dataframe thead th {\n        text-align: right;\n    }\n</style>\n<table border=\"1\" class=\"dataframe\">\n  <thead>\n    <tr style=\"text-align: right;\">\n      <th></th>\n      <th>Sex</th>\n      <th>Length</th>\n      <th>Diameter</th>\n      <th>Height</th>\n      <th>Whole weight</th>\n      <th>Shucked weight</th>\n      <th>Viscera weight</th>\n      <th>Shell weight</th>\n      <th>Rings</th>\n    </tr>\n  </thead>\n  <tbody>\n    <tr>\n      <th>0</th>\n      <td>0b100</td>\n      <td>0.455</td>\n      <td>0.365</td>\n      <td>0.095</td>\n      <td>0.5140</td>\n      <td>0.2245</td>\n      <td>0.1010</td>\n      <td>0.1500</td>\n      <td>15</td>\n    </tr>\n    <tr>\n      <th>1</th>\n      <td>0b100</td>\n      <td>0.350</td>\n      <td>0.265</td>\n      <td>0.090</td>\n      <td>0.2255</td>\n      <td>0.0995</td>\n      <td>0.0485</td>\n      <td>0.0700</td>\n      <td>7</td>\n    </tr>\n    <tr>\n      <th>2</th>\n      <td>0b001</td>\n      <td>0.530</td>\n      <td>0.420</td>\n      <td>0.135</td>\n      <td>0.6770</td>\n      <td>0.2565</td>\n      <td>0.1415</td>\n      <td>0.2100</td>\n      <td>9</td>\n    </tr>\n    <tr>\n      <th>3</th>\n      <td>0b100</td>\n      <td>0.440</td>\n      <td>0.365</td>\n      <td>0.125</td>\n      <td>0.5160</td>\n      <td>0.2155</td>\n      <td>0.1140</td>\n      <td>0.1550</td>\n      <td>10</td>\n    </tr>\n    <tr>\n      <th>4</th>\n      <td>0b010</td>\n      <td>0.330</td>\n      <td>0.255</td>\n      <td>0.080</td>\n      <td>0.2050</td>\n      <td>0.0895</td>\n      <td>0.0395</td>\n      <td>0.0550</td>\n      <td>7</td>\n    </tr>\n    <tr>\n      <th>...</th>\n      <td>...</td>\n      <td>...</td>\n      <td>...</td>\n      <td>...</td>\n      <td>...</td>\n      <td>...</td>\n      <td>...</td>\n      <td>...</td>\n      <td>...</td>\n    </tr>\n    <tr>\n      <th>4172</th>\n      <td>0b001</td>\n      <td>0.565</td>\n      <td>0.450</td>\n      <td>0.165</td>\n      <td>0.8870</td>\n      <td>0.3700</td>\n      <td>0.2390</td>\n      <td>0.2490</td>\n      <td>11</td>\n    </tr>\n    <tr>\n      <th>4173</th>\n      <td>0b100</td>\n      <td>0.590</td>\n      <td>0.440</td>\n      <td>0.135</td>\n      <td>0.9660</td>\n      <td>0.4390</td>\n      <td>0.2145</td>\n      <td>0.2605</td>\n      <td>10</td>\n    </tr>\n    <tr>\n      <th>4174</th>\n      <td>0b100</td>\n      <td>0.600</td>\n      <td>0.475</td>\n      <td>0.205</td>\n      <td>1.1760</td>\n      <td>0.5255</td>\n      <td>0.2875</td>\n      <td>0.3080</td>\n      <td>9</td>\n    </tr>\n    <tr>\n      <th>4175</th>\n      <td>0b001</td>\n      <td>0.625</td>\n      <td>0.485</td>\n      <td>0.150</td>\n      <td>1.0945</td>\n      <td>0.5310</td>\n      <td>0.2610</td>\n      <td>0.2960</td>\n      <td>10</td>\n    </tr>\n    <tr>\n      <th>4176</th>\n      <td>0b100</td>\n      <td>0.710</td>\n      <td>0.555</td>\n      <td>0.195</td>\n      <td>1.9485</td>\n      <td>0.9455</td>\n      <td>0.3765</td>\n      <td>0.4950</td>\n      <td>12</td>\n    </tr>\n  </tbody>\n</table>\n<p>4177 rows × 9 columns</p>\n</div>"
     },
     "execution_count": 6,
     "metadata": {},
     "output_type": "execute_result"
    }
   ],
   "source": [
    "\n",
    "# Convert nominal data to categorical using one-hot encoding\n",
    "nominalFeatures = [\"Sex\"]\n",
    "for nominalFeature in nominalFeatures:\n",
    "    uniqueValues = np.unique(data[nominalFeature])\n",
    "    convertNominal(data, nominalFeature, uniqueValues, inplace=True)\n",
    "# Show updated data frame\n",
    "print(\"\\nData Frame after converting nominal values to categorical using one-hot encoding\")\n",
    "data"
   ],
   "metadata": {
    "collapsed": false,
    "pycharm": {
     "name": "#%%\n"
    }
   }
  },
  {
   "cell_type": "code",
   "execution_count": 7,
   "outputs": [
    {
     "name": "stdout",
     "output_type": "stream",
     "text": [
      "\n",
      "Partition data into 5 folds with train, test, and (Optional) validation sets: Proportions are (0.75, 0.25))\n",
      "Fold 0, testSize=627, trainSize=209\n",
      "Fold 1, testSize=627, trainSize=209\n",
      "Fold 2, testSize=627, trainSize=209\n",
      "Fold 3, testSize=627, trainSize=209\n",
      "Fold 4, testSize=624, trainSize=209\n"
     ]
    }
   ],
   "source": [
    "# Partition data into folds\n",
    "k = 5\n",
    "proportions = (0.75, 0.25) # Train / Test proportions\n",
    "print(f\"\\nPartition data into {k} folds with train, test, and (Optional) validation sets: Proportions are {str(proportions)})\")\n",
    "folds = partition(data, k, classificationColumnId=None, includeValidationSet=False, proportions=proportions)\n",
    "for i in range(0, len(folds)):\n",
    "    print(f\"Fold {i}, testSize={len(folds[i][0])}, trainSize={len(folds[i][1])}\")"
   ],
   "metadata": {
    "collapsed": false,
    "pycharm": {
     "name": "#%%\n"
    }
   }
  },
  {
   "cell_type": "code",
   "execution_count": 8,
   "outputs": [
    {
     "name": "stdout",
     "output_type": "stream",
     "text": [
      "\n",
      "Learning Performance Evaluation\n"
     ]
    },
    {
     "data": {
      "text/plain": "Fold    MSE   MAE    R2  Pearson\n0     11.27  2.50 -0.00      0.0\n1      9.40  2.28 -0.00     -0.0\n2      7.86  2.14 -0.00      0.0\n3      9.05  2.29 -0.00      0.0\n4     12.41  2.52 -0.01     -0.0",
      "text/html": "<div>\n<style scoped>\n    .dataframe tbody tr th:only-of-type {\n        vertical-align: middle;\n    }\n\n    .dataframe tbody tr th {\n        vertical-align: top;\n    }\n\n    .dataframe thead th {\n        text-align: right;\n    }\n</style>\n<table border=\"1\" class=\"dataframe\">\n  <thead>\n    <tr style=\"text-align: right;\">\n      <th>Fold</th>\n      <th>MSE</th>\n      <th>MAE</th>\n      <th>R2</th>\n      <th>Pearson</th>\n    </tr>\n  </thead>\n  <tbody>\n    <tr>\n      <th>0</th>\n      <td>11.27</td>\n      <td>2.50</td>\n      <td>-0.00</td>\n      <td>0.0</td>\n    </tr>\n    <tr>\n      <th>1</th>\n      <td>9.40</td>\n      <td>2.28</td>\n      <td>-0.00</td>\n      <td>-0.0</td>\n    </tr>\n    <tr>\n      <th>2</th>\n      <td>7.86</td>\n      <td>2.14</td>\n      <td>-0.00</td>\n      <td>0.0</td>\n    </tr>\n    <tr>\n      <th>3</th>\n      <td>9.05</td>\n      <td>2.29</td>\n      <td>-0.00</td>\n      <td>0.0</td>\n    </tr>\n    <tr>\n      <th>4</th>\n      <td>12.41</td>\n      <td>2.52</td>\n      <td>-0.01</td>\n      <td>-0.0</td>\n    </tr>\n  </tbody>\n</table>\n</div>"
     },
     "execution_count": 8,
     "metadata": {},
     "output_type": "execute_result"
    }
   ],
   "source": [
    "# Test our learner\n",
    "className = \"Rings\"\n",
    "foldEvaluations = []\n",
    "for fold in folds:\n",
    "    trainingSet = fold[0]\n",
    "    testingSet = fold[1]\n",
    "    # Make a prediction\n",
    "    prediction = naivePredictor(trainingSet, testingSet, classificationColId=className, method=\"regression\")\n",
    "    predicted_scores = [prediction for x in range(0,len(testingSet))]\n",
    "    # Compose a performance evaluation, based on multiple metrics\n",
    "    mse = evaluateError(predicted_scores, testingSet[className], method=\"MSE\")\n",
    "    mae = evaluateError(predicted_scores, testingSet[className], method=\"MAE\")\n",
    "    r2 = evaluateError(predicted_scores, testingSet[className], method=\"R2\")\n",
    "    pearson = evaluateError(predicted_scores, testingSet[className], method=\"pearson\")\n",
    "    foldEvaluation = {\n",
    "        'MSE' : mse,\n",
    "        'MAE' : mae,\n",
    "        'R2': r2,\n",
    "        'Pearson': pearson\n",
    "    }\n",
    "    foldEvaluations.append(foldEvaluation)\n",
    "\n",
    "print(\"\\nLearning Performance Evaluation\")\n",
    "evalDf = pandas.DataFrame(foldEvaluations)\n",
    "# evalDf.index.name = 'Fold'\n",
    "evalDf = evalDf.rename_axis(index=None, columns='Fold')\n",
    "evalDf.round(2)\n"
   ],
   "metadata": {
    "collapsed": false,
    "pycharm": {
     "name": "#%%\n"
    }
   }
  }
 ],
 "metadata": {
  "kernelspec": {
   "display_name": "Python 3",
   "language": "python",
   "name": "python3"
  },
  "language_info": {
   "codemirror_mode": {
    "name": "ipython",
    "version": 2
   },
   "file_extension": ".py",
   "mimetype": "text/x-python",
   "name": "python",
   "nbconvert_exporter": "python",
   "pygments_lexer": "ipython2",
   "version": "2.7.6"
  }
 },
 "nbformat": 4,
 "nbformat_minor": 0
}